{
 "cells": [
  {
   "cell_type": "markdown",
   "metadata": {},
   "source": [
    "# DonorsChoose Application Screening"
   ]
  },
  {
   "cell_type": "markdown",
   "metadata": {},
   "source": [
    "Data Source: https://www.kaggle.com/c/donorschoose-application-screening"
   ]
  },
  {
   "cell_type": "markdown",
   "metadata": {},
   "source": [
    "# 1.Introduction"
   ]
  },
  {
   "cell_type": "markdown",
   "metadata": {},
   "source": [
    "#### About DonorsChoose:<br>\n",
    "\n",
    "Founded in 2000 by a high school teacher in the Bronx, DonorsChoose.org empowers public school teachers from across the country to request much-needed materials and experiences for their students. At any given time, there are thousands of classroom requests that can be brought to life with a gift of any amount.\n",
    "\n",
    "#### Their Mission:<br>\n",
    "\n",
    "They make it easy for anyone to help a classroom in need, moving them closer to a nation where students in every community have the tools and experiences they need for a great education.\n",
    "\n",
    "#### Objective:<br>\n",
    "\n",
    "The goal of the competition is to predict whether or not a DonorsChoose.org project proposal submitted by a teacher will be approved, using the text of project descriptions as well as additional metadata about the project, teacher, and school. DonorsChoose.org can then use this information to identify projects most likely to need further review before approval."
   ]
  },
  {
   "cell_type": "markdown",
   "metadata": {},
   "source": [
    "# 2.About Data"
   ]
  },
  {
   "cell_type": "markdown",
   "metadata": {},
   "source": [
    "The dataset contains information from teachers' project applications to DonorsChoose.org including teacher attributes, school attributes, and the project proposals including application essays.\n",
    "\n",
    "#### Files:<br>\n",
    "Data is provided in Two Files:<br>\n",
    "<ul>\n",
    "    <li>train.csv - the training set</li>\n",
    "    <li>resources.csv - resources requested by each proposal; joins with train.csv on id</li>\n",
    "</ul>\n",
    "\n",
    "#### Data Fields:<br>\n",
    "\n",
    "##### Train Data Fields\n",
    "\n",
    "<ul>\n",
    "<li><strong>id</strong> - unique id of the project application</li>\n",
    "<li><strong>teacher_id</strong>&nbsp;- id of the teacher submitting the application</li>\n",
    "<li><strong>teacher_prefix</strong>&nbsp;- title of the teacher's name (Ms., Mr., etc.)</li>\n",
    "<li><strong>school_state</strong>&nbsp;- US state of the teacher's school</li>\n",
    "<li><strong>project_submitted_datetime</strong>&nbsp;- application submission timestamp</li>\n",
    "<li><strong>project_grade_category</strong>&nbsp;- school grade levels (PreK-2, 3-5, 6-8, and 9-12)</li>\n",
    "<li><strong>project_subject_categories</strong>&nbsp;- category of the project (e.g., \"Music &amp; The Arts\")</li>\n",
    "<li><strong>project_subject_subcategories</strong>&nbsp;- sub-category of the project (e.g., \"Visual Arts\")</li>\n",
    "<li><strong>project_title</strong>&nbsp;- title of the project</li>\n",
    "<li><strong>project_essay_1</strong>&nbsp;- first essay<sup>*</sup></li>\n",
    "<li><strong>project_essay_2</strong>&nbsp;- second essay<sup>*</sup></li>\n",
    "<li><strong>project_essay_3</strong>&nbsp;- third essay<sup>*</sup></li>\n",
    "<li><strong>project_essay_4</strong>&nbsp;- fourth essay<sup>*</sup></li>\n",
    "<li><strong>project_resource_summary</strong>&nbsp;- summary of the resources needed for the project</li>\n",
    "<li><strong>teacher_number_of_previously_posted_projects</strong>&nbsp;- number of previously posted applications by the submitting teacher</li>\n",
    "<li><strong>project_is_approved</strong>&nbsp;- whether DonorsChoose proposal was accepted (0=\"rejected\", 1=\"accepted\"); <code>train.csv</code> only</li>\n",
    "</ul>\n",
    "\n",
    "\n",
    "<ul>\n",
    "<li><strong>project_essay_1</strong>: \"Introduce us to your classroom\"</li>\n",
    "<li><strong>project_essay_2</strong>: \"Tell us more about your students\"</li>\n",
    "<li><strong>project_essay_3</strong>: \"Describe how your students will use the materials you're requesting\"</li>\n",
    "<li><strong>project_essay_4</strong>: \"Close by sharing why your project will make a difference\"</li>\n",
    "</ul>\n",
    "\n",
    "\n",
    "\n",
    "<p>Starting on May 17, 2016, the number of essays was reduced from 4 to 2, and the prompts for the first 2 essays were changed to the following:</p>\n",
    "\n",
    "<ul>\n",
    "<li><strong>project_essay_1</strong>: \"Describe your students: What makes your students special? Specific details about their background, your neighborhood, and your school are all helpful.\"</li>\n",
    "<li><strong>project_essay_2</strong>: \"About your project: How will these materials make a difference in your students' learning and improve their school lives?\"</li>\n",
    "</ul>\n",
    "\n",
    "\n",
    "##### Resources Data Fields\n",
    "\n",
    "<ul>\n",
    "<li><strong>id</strong> - unique id of the project application; joins with <code>train.csv</code> on <code>id</code></li>\n",
    "<li><strong>description</strong> - description of the resource requested</li>\n",
    "<li><strong>quantity</strong> - quantity of resource requested</li>\n",
    "<li><strong>price</strong> - price of resource requested</li>\n",
    "</ul>\n"
   ]
  },
  {
   "cell_type": "markdown",
   "metadata": {},
   "source": [
    "## 2.1 Loading Data"
   ]
  },
  {
   "cell_type": "code",
   "execution_count": 1,
   "metadata": {},
   "outputs": [],
   "source": [
    "%matplotlib inline\n",
    "from datetime import datetime\n",
    "\n",
    "import sqlite3\n",
    "import pandas as pd\n",
    "import numpy as np\n",
    "import nltk\n",
    "import string\n",
    "import matplotlib.pyplot as plt\n",
    "import seaborn as sns\n",
    "from sklearn.feature_extraction.text import TfidfTransformer\n",
    "from sklearn.feature_extraction.text import TfidfVectorizer\n",
    "\n",
    "from sklearn.feature_extraction.text import CountVectorizer\n",
    "from sklearn.metrics import confusion_matrix\n",
    "from sklearn import metrics\n",
    "from sklearn.metrics import roc_curve, auc\n",
    "from nltk.stem.porter import PorterStemmer\n",
    "\n",
    "import warnings\n",
    "warnings.filterwarnings(\"ignore\")\n",
    "\n",
    "import pickle\n",
    "import re\n",
    "\n",
    "import string\n",
    "from nltk.corpus import stopwords\n",
    "\n",
    "from nltk.stem import PorterStemmer\n",
    "from nltk.stem.wordnet import WordNetLemmatizer\n",
    "\n",
    "from sklearn.preprocessing import LabelEncoder\n",
    "from scipy.sparse import hstack\n",
    "from sklearn.preprocessing import scale,StandardScaler\n",
    "\n",
    "from sklearn.grid_search import GridSearchCV\n",
    "from sklearn.model_selection import RandomizedSearchCV\n",
    "from sklearn.svm import SVC\n",
    "\n",
    "from sklearn.ensemble import RandomForestClassifier\n",
    "from sklearn.ensemble import GradientBoostingClassifier\n",
    "#from xgboost import XGBClassifier\n",
    "from sklearn import tree\n",
    "from sklearn.decomposition import TruncatedSVD\n",
    "import gensim\n",
    "from gensim.models import Word2Vec\n",
    "from gensim.models import KeyedVectors\n",
    "import lightgbm as lgb\n",
    "from sklearn.metrics import roc_auc_score\n",
    "from xgboost import XGBClassifier"
   ]
  },
  {
   "cell_type": "code",
   "execution_count": 37,
   "metadata": {},
   "outputs": [],
   "source": [
    "train_df = pd.read_csv('train.csv')"
   ]
  },
  {
   "cell_type": "code",
   "execution_count": 38,
   "metadata": {},
   "outputs": [
    {
     "data": {
      "text/html": [
       "<div>\n",
       "<style scoped>\n",
       "    .dataframe tbody tr th:only-of-type {\n",
       "        vertical-align: middle;\n",
       "    }\n",
       "\n",
       "    .dataframe tbody tr th {\n",
       "        vertical-align: top;\n",
       "    }\n",
       "\n",
       "    .dataframe thead th {\n",
       "        text-align: right;\n",
       "    }\n",
       "</style>\n",
       "<table border=\"1\" class=\"dataframe\">\n",
       "  <thead>\n",
       "    <tr style=\"text-align: right;\">\n",
       "      <th></th>\n",
       "      <th>id</th>\n",
       "      <th>teacher_id</th>\n",
       "      <th>teacher_prefix</th>\n",
       "      <th>school_state</th>\n",
       "      <th>project_submitted_datetime</th>\n",
       "      <th>project_grade_category</th>\n",
       "      <th>project_subject_categories</th>\n",
       "      <th>project_subject_subcategories</th>\n",
       "      <th>project_title</th>\n",
       "      <th>project_essay_1</th>\n",
       "      <th>project_essay_2</th>\n",
       "      <th>project_essay_3</th>\n",
       "      <th>project_essay_4</th>\n",
       "      <th>project_resource_summary</th>\n",
       "      <th>teacher_number_of_previously_posted_projects</th>\n",
       "      <th>project_is_approved</th>\n",
       "    </tr>\n",
       "  </thead>\n",
       "  <tbody>\n",
       "    <tr>\n",
       "      <th>0</th>\n",
       "      <td>p036502</td>\n",
       "      <td>484aaf11257089a66cfedc9461c6bd0a</td>\n",
       "      <td>Ms.</td>\n",
       "      <td>NV</td>\n",
       "      <td>2016-11-18 14:45:59</td>\n",
       "      <td>Grades PreK-2</td>\n",
       "      <td>Literacy &amp; Language</td>\n",
       "      <td>Literacy</td>\n",
       "      <td>Super Sight Word Centers</td>\n",
       "      <td>Most of my kindergarten students come from low...</td>\n",
       "      <td>I currently have a differentiated sight word c...</td>\n",
       "      <td>NaN</td>\n",
       "      <td>NaN</td>\n",
       "      <td>My students need 6 Ipod Nano's to create and d...</td>\n",
       "      <td>26</td>\n",
       "      <td>1</td>\n",
       "    </tr>\n",
       "    <tr>\n",
       "      <th>1</th>\n",
       "      <td>p039565</td>\n",
       "      <td>df72a3ba8089423fa8a94be88060f6ed</td>\n",
       "      <td>Mrs.</td>\n",
       "      <td>GA</td>\n",
       "      <td>2017-04-26 15:57:28</td>\n",
       "      <td>Grades 3-5</td>\n",
       "      <td>Music &amp; The Arts, Health &amp; Sports</td>\n",
       "      <td>Performing Arts, Team Sports</td>\n",
       "      <td>Keep Calm and Dance On</td>\n",
       "      <td>Our elementary school is a culturally rich sch...</td>\n",
       "      <td>We strive to provide our diverse population of...</td>\n",
       "      <td>NaN</td>\n",
       "      <td>NaN</td>\n",
       "      <td>My students need matching shirts to wear for d...</td>\n",
       "      <td>1</td>\n",
       "      <td>0</td>\n",
       "    </tr>\n",
       "    <tr>\n",
       "      <th>2</th>\n",
       "      <td>p233823</td>\n",
       "      <td>a9b876a9252e08a55e3d894150f75ba3</td>\n",
       "      <td>Ms.</td>\n",
       "      <td>UT</td>\n",
       "      <td>2017-01-01 22:57:44</td>\n",
       "      <td>Grades 3-5</td>\n",
       "      <td>Math &amp; Science, Literacy &amp; Language</td>\n",
       "      <td>Applied Sciences, Literature &amp; Writing</td>\n",
       "      <td>Lets 3Doodle to Learn</td>\n",
       "      <td>Hello;\\r\\nMy name is Mrs. Brotherton. I teach ...</td>\n",
       "      <td>We are looking to add some 3Doodler to our cla...</td>\n",
       "      <td>NaN</td>\n",
       "      <td>NaN</td>\n",
       "      <td>My students need the 3doodler. We are an SEM s...</td>\n",
       "      <td>5</td>\n",
       "      <td>1</td>\n",
       "    </tr>\n",
       "    <tr>\n",
       "      <th>3</th>\n",
       "      <td>p185307</td>\n",
       "      <td>525fdbb6ec7f538a48beebaa0a51b24f</td>\n",
       "      <td>Mr.</td>\n",
       "      <td>NC</td>\n",
       "      <td>2016-08-12 15:42:11</td>\n",
       "      <td>Grades 3-5</td>\n",
       "      <td>Health &amp; Sports</td>\n",
       "      <td>Health &amp; Wellness</td>\n",
       "      <td>\\\"Kid Inspired\\\" Equipment to Increase Activit...</td>\n",
       "      <td>My students are the greatest students but are ...</td>\n",
       "      <td>The student's project which is totally \\\"kid-i...</td>\n",
       "      <td>NaN</td>\n",
       "      <td>NaN</td>\n",
       "      <td>My students need balls and other activity equi...</td>\n",
       "      <td>16</td>\n",
       "      <td>0</td>\n",
       "    </tr>\n",
       "    <tr>\n",
       "      <th>4</th>\n",
       "      <td>p013780</td>\n",
       "      <td>a63b5547a7239eae4c1872670848e61a</td>\n",
       "      <td>Mr.</td>\n",
       "      <td>CA</td>\n",
       "      <td>2016-08-06 09:09:11</td>\n",
       "      <td>Grades 6-8</td>\n",
       "      <td>Health &amp; Sports</td>\n",
       "      <td>Health &amp; Wellness</td>\n",
       "      <td>We need clean water for our culinary arts class!</td>\n",
       "      <td>My students are athletes and students who are ...</td>\n",
       "      <td>For some reason in our kitchen the water comes...</td>\n",
       "      <td>NaN</td>\n",
       "      <td>NaN</td>\n",
       "      <td>My students need a water filtration system for...</td>\n",
       "      <td>42</td>\n",
       "      <td>1</td>\n",
       "    </tr>\n",
       "  </tbody>\n",
       "</table>\n",
       "</div>"
      ],
      "text/plain": [
       "        id                        teacher_id teacher_prefix school_state  \\\n",
       "0  p036502  484aaf11257089a66cfedc9461c6bd0a            Ms.           NV   \n",
       "1  p039565  df72a3ba8089423fa8a94be88060f6ed           Mrs.           GA   \n",
       "2  p233823  a9b876a9252e08a55e3d894150f75ba3            Ms.           UT   \n",
       "3  p185307  525fdbb6ec7f538a48beebaa0a51b24f            Mr.           NC   \n",
       "4  p013780  a63b5547a7239eae4c1872670848e61a            Mr.           CA   \n",
       "\n",
       "  project_submitted_datetime project_grade_category  \\\n",
       "0        2016-11-18 14:45:59          Grades PreK-2   \n",
       "1        2017-04-26 15:57:28             Grades 3-5   \n",
       "2        2017-01-01 22:57:44             Grades 3-5   \n",
       "3        2016-08-12 15:42:11             Grades 3-5   \n",
       "4        2016-08-06 09:09:11             Grades 6-8   \n",
       "\n",
       "            project_subject_categories  \\\n",
       "0                  Literacy & Language   \n",
       "1    Music & The Arts, Health & Sports   \n",
       "2  Math & Science, Literacy & Language   \n",
       "3                      Health & Sports   \n",
       "4                      Health & Sports   \n",
       "\n",
       "            project_subject_subcategories  \\\n",
       "0                                Literacy   \n",
       "1            Performing Arts, Team Sports   \n",
       "2  Applied Sciences, Literature & Writing   \n",
       "3                       Health & Wellness   \n",
       "4                       Health & Wellness   \n",
       "\n",
       "                                       project_title  \\\n",
       "0                           Super Sight Word Centers   \n",
       "1                             Keep Calm and Dance On   \n",
       "2                              Lets 3Doodle to Learn   \n",
       "3  \\\"Kid Inspired\\\" Equipment to Increase Activit...   \n",
       "4   We need clean water for our culinary arts class!   \n",
       "\n",
       "                                     project_essay_1  \\\n",
       "0  Most of my kindergarten students come from low...   \n",
       "1  Our elementary school is a culturally rich sch...   \n",
       "2  Hello;\\r\\nMy name is Mrs. Brotherton. I teach ...   \n",
       "3  My students are the greatest students but are ...   \n",
       "4  My students are athletes and students who are ...   \n",
       "\n",
       "                                     project_essay_2 project_essay_3  \\\n",
       "0  I currently have a differentiated sight word c...             NaN   \n",
       "1  We strive to provide our diverse population of...             NaN   \n",
       "2  We are looking to add some 3Doodler to our cla...             NaN   \n",
       "3  The student's project which is totally \\\"kid-i...             NaN   \n",
       "4  For some reason in our kitchen the water comes...             NaN   \n",
       "\n",
       "  project_essay_4                           project_resource_summary  \\\n",
       "0             NaN  My students need 6 Ipod Nano's to create and d...   \n",
       "1             NaN  My students need matching shirts to wear for d...   \n",
       "2             NaN  My students need the 3doodler. We are an SEM s...   \n",
       "3             NaN  My students need balls and other activity equi...   \n",
       "4             NaN  My students need a water filtration system for...   \n",
       "\n",
       "   teacher_number_of_previously_posted_projects  project_is_approved  \n",
       "0                                            26                    1  \n",
       "1                                             1                    0  \n",
       "2                                             5                    1  \n",
       "3                                            16                    0  \n",
       "4                                            42                    1  "
      ]
     },
     "execution_count": 38,
     "metadata": {},
     "output_type": "execute_result"
    }
   ],
   "source": [
    "train_df.head()"
   ]
  },
  {
   "cell_type": "code",
   "execution_count": 39,
   "metadata": {},
   "outputs": [
    {
     "data": {
      "text/plain": [
       "(182080, 16)"
      ]
     },
     "execution_count": 39,
     "metadata": {},
     "output_type": "execute_result"
    }
   ],
   "source": [
    "train_df.shape"
   ]
  },
  {
   "cell_type": "code",
   "execution_count": 40,
   "metadata": {},
   "outputs": [],
   "source": [
    "resource_df = pd.read_csv('resources.csv')"
   ]
  },
  {
   "cell_type": "code",
   "execution_count": 41,
   "metadata": {},
   "outputs": [
    {
     "data": {
      "text/plain": [
       "(1541272, 4)"
      ]
     },
     "execution_count": 41,
     "metadata": {},
     "output_type": "execute_result"
    }
   ],
   "source": [
    "resource_df.shape"
   ]
  },
  {
   "cell_type": "markdown",
   "metadata": {},
   "source": [
    "### Merging Train Data with Resource"
   ]
  },
  {
   "cell_type": "code",
   "execution_count": 47,
   "metadata": {},
   "outputs": [],
   "source": [
    "train_res_df = pd.merge(train_df,resource_df,on='id',how='left')"
   ]
  },
  {
   "cell_type": "code",
   "execution_count": 48,
   "metadata": {},
   "outputs": [
    {
     "data": {
      "text/plain": [
       "(1081830, 19)"
      ]
     },
     "execution_count": 48,
     "metadata": {},
     "output_type": "execute_result"
    }
   ],
   "source": [
    "train_res_df.shape"
   ]
  },
  {
   "cell_type": "markdown",
   "metadata": {},
   "source": [
    "> Observation: There are around 10lakh data points with 19 features in the training data"
   ]
  },
  {
   "cell_type": "markdown",
   "metadata": {},
   "source": [
    "# 3. Exploratory Data Analysis(EDA)"
   ]
  },
  {
   "cell_type": "code",
   "execution_count": 43,
   "metadata": {},
   "outputs": [
    {
     "data": {
      "text/html": [
       "<div>\n",
       "<style scoped>\n",
       "    .dataframe tbody tr th:only-of-type {\n",
       "        vertical-align: middle;\n",
       "    }\n",
       "\n",
       "    .dataframe tbody tr th {\n",
       "        vertical-align: top;\n",
       "    }\n",
       "\n",
       "    .dataframe thead th {\n",
       "        text-align: right;\n",
       "    }\n",
       "</style>\n",
       "<table border=\"1\" class=\"dataframe\">\n",
       "  <thead>\n",
       "    <tr style=\"text-align: right;\">\n",
       "      <th></th>\n",
       "      <th>id</th>\n",
       "      <th>teacher_id</th>\n",
       "      <th>teacher_prefix</th>\n",
       "      <th>school_state</th>\n",
       "      <th>project_submitted_datetime</th>\n",
       "      <th>project_grade_category</th>\n",
       "      <th>project_subject_categories</th>\n",
       "      <th>project_subject_subcategories</th>\n",
       "      <th>project_title</th>\n",
       "      <th>project_essay_1</th>\n",
       "      <th>project_essay_2</th>\n",
       "      <th>project_essay_3</th>\n",
       "      <th>project_essay_4</th>\n",
       "      <th>project_resource_summary</th>\n",
       "      <th>teacher_number_of_previously_posted_projects</th>\n",
       "      <th>project_is_approved</th>\n",
       "      <th>description</th>\n",
       "      <th>quantity</th>\n",
       "      <th>price</th>\n",
       "    </tr>\n",
       "  </thead>\n",
       "  <tbody>\n",
       "    <tr>\n",
       "      <th>0</th>\n",
       "      <td>p036502</td>\n",
       "      <td>484aaf11257089a66cfedc9461c6bd0a</td>\n",
       "      <td>Ms.</td>\n",
       "      <td>NV</td>\n",
       "      <td>2016-11-18 14:45:59</td>\n",
       "      <td>Grades PreK-2</td>\n",
       "      <td>Literacy &amp; Language</td>\n",
       "      <td>Literacy</td>\n",
       "      <td>Super Sight Word Centers</td>\n",
       "      <td>Most of my kindergarten students come from low...</td>\n",
       "      <td>I currently have a differentiated sight word c...</td>\n",
       "      <td>NaN</td>\n",
       "      <td>NaN</td>\n",
       "      <td>My students need 6 Ipod Nano's to create and d...</td>\n",
       "      <td>26</td>\n",
       "      <td>1</td>\n",
       "      <td>Apple - iPod nano� 16GB MP3 Player (8th Genera...</td>\n",
       "      <td>3</td>\n",
       "      <td>149.99</td>\n",
       "    </tr>\n",
       "    <tr>\n",
       "      <th>1</th>\n",
       "      <td>p036502</td>\n",
       "      <td>484aaf11257089a66cfedc9461c6bd0a</td>\n",
       "      <td>Ms.</td>\n",
       "      <td>NV</td>\n",
       "      <td>2016-11-18 14:45:59</td>\n",
       "      <td>Grades PreK-2</td>\n",
       "      <td>Literacy &amp; Language</td>\n",
       "      <td>Literacy</td>\n",
       "      <td>Super Sight Word Centers</td>\n",
       "      <td>Most of my kindergarten students come from low...</td>\n",
       "      <td>I currently have a differentiated sight word c...</td>\n",
       "      <td>NaN</td>\n",
       "      <td>NaN</td>\n",
       "      <td>My students need 6 Ipod Nano's to create and d...</td>\n",
       "      <td>26</td>\n",
       "      <td>1</td>\n",
       "      <td>Apple - iPod nano� 16GB MP3 Player (8th Genera...</td>\n",
       "      <td>3</td>\n",
       "      <td>149.99</td>\n",
       "    </tr>\n",
       "    <tr>\n",
       "      <th>2</th>\n",
       "      <td>p039565</td>\n",
       "      <td>df72a3ba8089423fa8a94be88060f6ed</td>\n",
       "      <td>Mrs.</td>\n",
       "      <td>GA</td>\n",
       "      <td>2017-04-26 15:57:28</td>\n",
       "      <td>Grades 3-5</td>\n",
       "      <td>Music &amp; The Arts, Health &amp; Sports</td>\n",
       "      <td>Performing Arts, Team Sports</td>\n",
       "      <td>Keep Calm and Dance On</td>\n",
       "      <td>Our elementary school is a culturally rich sch...</td>\n",
       "      <td>We strive to provide our diverse population of...</td>\n",
       "      <td>NaN</td>\n",
       "      <td>NaN</td>\n",
       "      <td>My students need matching shirts to wear for d...</td>\n",
       "      <td>1</td>\n",
       "      <td>0</td>\n",
       "      <td>Reebok Girls' Fashion Dance Graphic T-Shirt - ...</td>\n",
       "      <td>20</td>\n",
       "      <td>20.00</td>\n",
       "    </tr>\n",
       "    <tr>\n",
       "      <th>3</th>\n",
       "      <td>p233823</td>\n",
       "      <td>a9b876a9252e08a55e3d894150f75ba3</td>\n",
       "      <td>Ms.</td>\n",
       "      <td>UT</td>\n",
       "      <td>2017-01-01 22:57:44</td>\n",
       "      <td>Grades 3-5</td>\n",
       "      <td>Math &amp; Science, Literacy &amp; Language</td>\n",
       "      <td>Applied Sciences, Literature &amp; Writing</td>\n",
       "      <td>Lets 3Doodle to Learn</td>\n",
       "      <td>Hello;\\r\\nMy name is Mrs. Brotherton. I teach ...</td>\n",
       "      <td>We are looking to add some 3Doodler to our cla...</td>\n",
       "      <td>NaN</td>\n",
       "      <td>NaN</td>\n",
       "      <td>My students need the 3doodler. We are an SEM s...</td>\n",
       "      <td>5</td>\n",
       "      <td>1</td>\n",
       "      <td>3doodler Start Full Edu Bundle</td>\n",
       "      <td>1</td>\n",
       "      <td>469.99</td>\n",
       "    </tr>\n",
       "    <tr>\n",
       "      <th>4</th>\n",
       "      <td>p185307</td>\n",
       "      <td>525fdbb6ec7f538a48beebaa0a51b24f</td>\n",
       "      <td>Mr.</td>\n",
       "      <td>NC</td>\n",
       "      <td>2016-08-12 15:42:11</td>\n",
       "      <td>Grades 3-5</td>\n",
       "      <td>Health &amp; Sports</td>\n",
       "      <td>Health &amp; Wellness</td>\n",
       "      <td>\\\"Kid Inspired\\\" Equipment to Increase Activit...</td>\n",
       "      <td>My students are the greatest students but are ...</td>\n",
       "      <td>The student's project which is totally \\\"kid-i...</td>\n",
       "      <td>NaN</td>\n",
       "      <td>NaN</td>\n",
       "      <td>My students need balls and other activity equi...</td>\n",
       "      <td>16</td>\n",
       "      <td>0</td>\n",
       "      <td>BALL PG 4'' POLY SET OF 6 COLORS</td>\n",
       "      <td>1</td>\n",
       "      <td>18.95</td>\n",
       "    </tr>\n",
       "  </tbody>\n",
       "</table>\n",
       "</div>"
      ],
      "text/plain": [
       "        id                        teacher_id teacher_prefix school_state  \\\n",
       "0  p036502  484aaf11257089a66cfedc9461c6bd0a            Ms.           NV   \n",
       "1  p036502  484aaf11257089a66cfedc9461c6bd0a            Ms.           NV   \n",
       "2  p039565  df72a3ba8089423fa8a94be88060f6ed           Mrs.           GA   \n",
       "3  p233823  a9b876a9252e08a55e3d894150f75ba3            Ms.           UT   \n",
       "4  p185307  525fdbb6ec7f538a48beebaa0a51b24f            Mr.           NC   \n",
       "\n",
       "  project_submitted_datetime project_grade_category  \\\n",
       "0        2016-11-18 14:45:59          Grades PreK-2   \n",
       "1        2016-11-18 14:45:59          Grades PreK-2   \n",
       "2        2017-04-26 15:57:28             Grades 3-5   \n",
       "3        2017-01-01 22:57:44             Grades 3-5   \n",
       "4        2016-08-12 15:42:11             Grades 3-5   \n",
       "\n",
       "            project_subject_categories  \\\n",
       "0                  Literacy & Language   \n",
       "1                  Literacy & Language   \n",
       "2    Music & The Arts, Health & Sports   \n",
       "3  Math & Science, Literacy & Language   \n",
       "4                      Health & Sports   \n",
       "\n",
       "            project_subject_subcategories  \\\n",
       "0                                Literacy   \n",
       "1                                Literacy   \n",
       "2            Performing Arts, Team Sports   \n",
       "3  Applied Sciences, Literature & Writing   \n",
       "4                       Health & Wellness   \n",
       "\n",
       "                                       project_title  \\\n",
       "0                           Super Sight Word Centers   \n",
       "1                           Super Sight Word Centers   \n",
       "2                             Keep Calm and Dance On   \n",
       "3                              Lets 3Doodle to Learn   \n",
       "4  \\\"Kid Inspired\\\" Equipment to Increase Activit...   \n",
       "\n",
       "                                     project_essay_1  \\\n",
       "0  Most of my kindergarten students come from low...   \n",
       "1  Most of my kindergarten students come from low...   \n",
       "2  Our elementary school is a culturally rich sch...   \n",
       "3  Hello;\\r\\nMy name is Mrs. Brotherton. I teach ...   \n",
       "4  My students are the greatest students but are ...   \n",
       "\n",
       "                                     project_essay_2 project_essay_3  \\\n",
       "0  I currently have a differentiated sight word c...             NaN   \n",
       "1  I currently have a differentiated sight word c...             NaN   \n",
       "2  We strive to provide our diverse population of...             NaN   \n",
       "3  We are looking to add some 3Doodler to our cla...             NaN   \n",
       "4  The student's project which is totally \\\"kid-i...             NaN   \n",
       "\n",
       "  project_essay_4                           project_resource_summary  \\\n",
       "0             NaN  My students need 6 Ipod Nano's to create and d...   \n",
       "1             NaN  My students need 6 Ipod Nano's to create and d...   \n",
       "2             NaN  My students need matching shirts to wear for d...   \n",
       "3             NaN  My students need the 3doodler. We are an SEM s...   \n",
       "4             NaN  My students need balls and other activity equi...   \n",
       "\n",
       "   teacher_number_of_previously_posted_projects  project_is_approved  \\\n",
       "0                                            26                    1   \n",
       "1                                            26                    1   \n",
       "2                                             1                    0   \n",
       "3                                             5                    1   \n",
       "4                                            16                    0   \n",
       "\n",
       "                                         description  quantity   price  \n",
       "0  Apple - iPod nano� 16GB MP3 Player (8th Genera...         3  149.99  \n",
       "1  Apple - iPod nano� 16GB MP3 Player (8th Genera...         3  149.99  \n",
       "2  Reebok Girls' Fashion Dance Graphic T-Shirt - ...        20   20.00  \n",
       "3                     3doodler Start Full Edu Bundle         1  469.99  \n",
       "4                   BALL PG 4'' POLY SET OF 6 COLORS         1   18.95  "
      ]
     },
     "execution_count": 43,
     "metadata": {},
     "output_type": "execute_result"
    }
   ],
   "source": [
    "train_res_df.head()"
   ]
  },
  {
   "cell_type": "markdown",
   "metadata": {},
   "source": [
    "## 3.1 Percentage of Projects Approved/Rejected"
   ]
  },
  {
   "cell_type": "code",
   "execution_count": 13,
   "metadata": {},
   "outputs": [
    {
     "name": "stdout",
     "output_type": "stream",
     "text": [
      "Percentage of Approved Projects:  79.23777303273157\n",
      "Percentage of Rejected Projects:  20.762226967268433\n"
     ]
    }
   ],
   "source": [
    "approved_percent = train_res_df[train_res_df['project_is_approved']==1].shape[0]/train_res_df.shape[0]*100;\n",
    "print(\"Percentage of Approved Projects: \",approved_percent)\n",
    "print(\"Percentage of Rejected Projects: \",100-approved_percent)"
   ]
  },
  {
   "cell_type": "code",
   "execution_count": 14,
   "metadata": {},
   "outputs": [
    {
     "data": {
      "image/png": "[encoded data removed]",
      "text/plain": [
       "<Figure size 432x288 with 1 Axes>"
      ]
     },
     "metadata": {},
     "output_type": "display_data"
    }
   ],
   "source": [
    "import matplotlib.pyplot as plt\n",
    " \n",
    "# Data to plot\n",
    "labels = 'Approved Projects', 'Rejected Projects'\n",
    "slices_hours = [9.6, 2.4]\n",
    "colors = ['#FFEB3B','#f44336']\n",
    "explode = (0.2, 0)  # explode 1st slice\n",
    " \n",
    "# Plot\n",
    "plt.pie(slices_hours, explode=explode, labels=labels, colors=colors,\n",
    "        autopct='%1.1f%%', shadow=True, startangle=45)\n",
    " \n",
    "plt.axis('equal')\n",
    "plt.show()"
   ]
  },
  {
   "cell_type": "markdown",
   "metadata": {},
   "source": [
    ">Observation: Around 80% of submitted projects were Approved.<br>\n",
    "Its an \"Imbalanced\" DataSet"
   ]
  },
  {
   "cell_type": "markdown",
   "metadata": {},
   "source": [
    "## 3.2 Data Cleaning "
   ]
  },
  {
   "cell_type": "markdown",
   "metadata": {},
   "source": [
    "### Missing Data"
   ]
  },
  {
   "cell_type": "code",
   "execution_count": 49,
   "metadata": {},
   "outputs": [
    {
     "data": {
      "text/html": [
       "<div>\n",
       "<style scoped>\n",
       "    .dataframe tbody tr th:only-of-type {\n",
       "        vertical-align: middle;\n",
       "    }\n",
       "\n",
       "    .dataframe tbody tr th {\n",
       "        vertical-align: top;\n",
       "    }\n",
       "\n",
       "    .dataframe thead th {\n",
       "        text-align: right;\n",
       "    }\n",
       "</style>\n",
       "<table border=\"1\" class=\"dataframe\">\n",
       "  <thead>\n",
       "    <tr style=\"text-align: right;\">\n",
       "      <th></th>\n",
       "      <th>Total_NaN_rows</th>\n",
       "      <th>Percent</th>\n",
       "    </tr>\n",
       "  </thead>\n",
       "  <tbody>\n",
       "    <tr>\n",
       "      <th>project_essay_3</th>\n",
       "      <td>1043673</td>\n",
       "      <td>96.472921</td>\n",
       "    </tr>\n",
       "    <tr>\n",
       "      <th>project_essay_4</th>\n",
       "      <td>1043673</td>\n",
       "      <td>96.472921</td>\n",
       "    </tr>\n",
       "    <tr>\n",
       "      <th>description</th>\n",
       "      <td>192</td>\n",
       "      <td>0.017748</td>\n",
       "    </tr>\n",
       "  </tbody>\n",
       "</table>\n",
       "</div>"
      ],
      "text/plain": [
       "                 Total_NaN_rows    Percent\n",
       "project_essay_3         1043673  96.472921\n",
       "project_essay_4         1043673  96.472921\n",
       "description                 192   0.017748"
      ]
     },
     "execution_count": 49,
     "metadata": {},
     "output_type": "execute_result"
    }
   ],
   "source": [
    "# sum of rows containing null values \n",
    "total_NaN_rows = train_res_df[['project_essay_3','project_essay_4','description']].isnull().sum()\n",
    "percent = (total_NaN_rows/train_res_df[['project_essay_3','project_essay_4','description']].isnull().count()*100)\n",
    "missing_train_data  = pd.concat([total_NaN_rows, percent], axis=1, keys=['Total_NaN_rows', 'Percent'])\n",
    "missing_train_data.head()"
   ]
  },
  {
   "cell_type": "markdown",
   "metadata": {},
   "source": [
    "> Observation: Over 96% of the rows dont have Data for Columns project_essay_3 and project_essay_4 so lets ignore these Columns"
   ]
  },
  {
   "cell_type": "markdown",
   "metadata": {},
   "source": [
    "#### Removing the above columns"
   ]
  },
  {
   "cell_type": "code",
   "execution_count": 51,
   "metadata": {},
   "outputs": [],
   "source": [
    "train_df = train_df.drop(['project_essay_3','project_essay_4'],axis=1)\n",
    "\n",
    "\n",
    "train_res_df = train_res_df.drop(['project_essay_3','project_essay_4'],axis=1)"
   ]
  },
  {
   "cell_type": "markdown",
   "metadata": {},
   "source": [
    "### Removing Duplicate Rows if Any"
   ]
  },
  {
   "cell_type": "markdown",
   "metadata": {},
   "source": [
    "#### Train Data"
   ]
  },
  {
   "cell_type": "code",
   "execution_count": 52,
   "metadata": {},
   "outputs": [
    {
     "data": {
      "text/plain": [
       "(1081830, 17)"
      ]
     },
     "execution_count": 52,
     "metadata": {},
     "output_type": "execute_result"
    }
   ],
   "source": [
    "train_res_df.shape"
   ]
  },
  {
   "cell_type": "code",
   "execution_count": 53,
   "metadata": {},
   "outputs": [
    {
     "data": {
      "text/plain": [
       "8576"
      ]
     },
     "execution_count": 53,
     "metadata": {},
     "output_type": "execute_result"
    }
   ],
   "source": [
    "train_res_df.duplicated().sum()"
   ]
  },
  {
   "cell_type": "markdown",
   "metadata": {},
   "source": [
    "> Observation: There are 8576 Duplicated rows in our training data"
   ]
  },
  {
   "cell_type": "code",
   "execution_count": 54,
   "metadata": {},
   "outputs": [
    {
     "data": {
      "text/html": [
       "<div>\n",
       "<style scoped>\n",
       "    .dataframe tbody tr th:only-of-type {\n",
       "        vertical-align: middle;\n",
       "    }\n",
       "\n",
       "    .dataframe tbody tr th {\n",
       "        vertical-align: top;\n",
       "    }\n",
       "\n",
       "    .dataframe thead th {\n",
       "        text-align: right;\n",
       "    }\n",
       "</style>\n",
       "<table border=\"1\" class=\"dataframe\">\n",
       "  <thead>\n",
       "    <tr style=\"text-align: right;\">\n",
       "      <th></th>\n",
       "      <th>id</th>\n",
       "      <th>teacher_id</th>\n",
       "      <th>teacher_prefix</th>\n",
       "      <th>school_state</th>\n",
       "      <th>project_submitted_datetime</th>\n",
       "      <th>project_grade_category</th>\n",
       "      <th>project_subject_categories</th>\n",
       "      <th>project_subject_subcategories</th>\n",
       "      <th>project_title</th>\n",
       "      <th>project_essay_1</th>\n",
       "      <th>project_essay_2</th>\n",
       "      <th>project_resource_summary</th>\n",
       "      <th>teacher_number_of_previously_posted_projects</th>\n",
       "      <th>project_is_approved</th>\n",
       "      <th>description</th>\n",
       "      <th>quantity</th>\n",
       "      <th>price</th>\n",
       "    </tr>\n",
       "  </thead>\n",
       "  <tbody>\n",
       "    <tr>\n",
       "      <th>148</th>\n",
       "      <td>p000139</td>\n",
       "      <td>f68fedcb0852d8a6ce88f7b4139b9227</td>\n",
       "      <td>Mr.</td>\n",
       "      <td>TX</td>\n",
       "      <td>2016-08-07 20:33:16</td>\n",
       "      <td>Grades 9-12</td>\n",
       "      <td>Music &amp; The Arts</td>\n",
       "      <td>Music</td>\n",
       "      <td>Deeds for Reeds</td>\n",
       "      <td>As I've written here before, we work to use ba...</td>\n",
       "      <td>A guitar can't sound good with broken or worn ...</td>\n",
       "      <td>My students need access to quality replacement...</td>\n",
       "      <td>3</td>\n",
       "      <td>1</td>\n",
       "      <td>Tenor Saxophone Reeds</td>\n",
       "      <td>1</td>\n",
       "      <td>20.95</td>\n",
       "    </tr>\n",
       "    <tr>\n",
       "      <th>153</th>\n",
       "      <td>p000139</td>\n",
       "      <td>f68fedcb0852d8a6ce88f7b4139b9227</td>\n",
       "      <td>Mr.</td>\n",
       "      <td>TX</td>\n",
       "      <td>2016-08-07 20:33:16</td>\n",
       "      <td>Grades 9-12</td>\n",
       "      <td>Music &amp; The Arts</td>\n",
       "      <td>Music</td>\n",
       "      <td>Deeds for Reeds</td>\n",
       "      <td>As I've written here before, we work to use ba...</td>\n",
       "      <td>A guitar can't sound good with broken or worn ...</td>\n",
       "      <td>My students need access to quality replacement...</td>\n",
       "      <td>3</td>\n",
       "      <td>1</td>\n",
       "      <td>Traditional Bb Clarinet Reeds</td>\n",
       "      <td>6</td>\n",
       "      <td>21.95</td>\n",
       "    </tr>\n",
       "    <tr>\n",
       "      <th>394</th>\n",
       "      <td>p160114</td>\n",
       "      <td>d523f258b55bb41c3bcb6dd67cfab6c1</td>\n",
       "      <td>Ms.</td>\n",
       "      <td>OK</td>\n",
       "      <td>2016-09-22 01:14:50</td>\n",
       "      <td>Grades PreK-2</td>\n",
       "      <td>Literacy &amp; Language, Special Needs</td>\n",
       "      <td>Literacy, Special Needs</td>\n",
       "      <td>Bring Our Story to Life</td>\n",
       "      <td>The students at my school are multicultural, c...</td>\n",
       "      <td>My students struggle with writing.  Sometimes ...</td>\n",
       "      <td>My students need a printer, ink and paper.  Th...</td>\n",
       "      <td>0</td>\n",
       "      <td>1</td>\n",
       "      <td>Brother LC109BK - Super High Yield - black - o...</td>\n",
       "      <td>1</td>\n",
       "      <td>32.70</td>\n",
       "    </tr>\n",
       "    <tr>\n",
       "      <th>469</th>\n",
       "      <td>p192882</td>\n",
       "      <td>d36c158f9f95db287dc019fe6f00cdad</td>\n",
       "      <td>Mrs.</td>\n",
       "      <td>WI</td>\n",
       "      <td>2016-08-20 11:27:08</td>\n",
       "      <td>Grades PreK-2</td>\n",
       "      <td>Health &amp; Sports</td>\n",
       "      <td>Health &amp; Wellness</td>\n",
       "      <td>Learn and Move</td>\n",
       "      <td>As a teacher in a low-income/high poverty scho...</td>\n",
       "      <td>This past year I noticed how wiggly my student...</td>\n",
       "      <td>My students need Hokk chairsi, wobble chairs a...</td>\n",
       "      <td>0</td>\n",
       "      <td>0</td>\n",
       "      <td>Norwood Commercial Furniture NOR-STOOLBS-SO Pl...</td>\n",
       "      <td>1</td>\n",
       "      <td>48.95</td>\n",
       "    </tr>\n",
       "    <tr>\n",
       "      <th>740</th>\n",
       "      <td>p240306</td>\n",
       "      <td>1ee0a12eeb5da1c2fb438c682c8177dc</td>\n",
       "      <td>Mrs.</td>\n",
       "      <td>GA</td>\n",
       "      <td>2017-03-02 16:57:41</td>\n",
       "      <td>Grades PreK-2</td>\n",
       "      <td>Literacy &amp; Language, Math &amp; Science</td>\n",
       "      <td>Literacy, Mathematics</td>\n",
       "      <td>Create - Evaluate - Celebrate</td>\n",
       "      <td>CREATE - EVALUATE - CELEBRATE!!!!\\r\\nEach chil...</td>\n",
       "      <td>Osmo states that it enables the iPad to merge ...</td>\n",
       "      <td>My students need to be challenged using techno...</td>\n",
       "      <td>2</td>\n",
       "      <td>1</td>\n",
       "      <td>Osmo Starter Kit</td>\n",
       "      <td>1</td>\n",
       "      <td>79.99</td>\n",
       "    </tr>\n",
       "  </tbody>\n",
       "</table>\n",
       "</div>"
      ],
      "text/plain": [
       "          id                        teacher_id teacher_prefix school_state  \\\n",
       "148  p000139  f68fedcb0852d8a6ce88f7b4139b9227            Mr.           TX   \n",
       "153  p000139  f68fedcb0852d8a6ce88f7b4139b9227            Mr.           TX   \n",
       "394  p160114  d523f258b55bb41c3bcb6dd67cfab6c1            Ms.           OK   \n",
       "469  p192882  d36c158f9f95db287dc019fe6f00cdad           Mrs.           WI   \n",
       "740  p240306  1ee0a12eeb5da1c2fb438c682c8177dc           Mrs.           GA   \n",
       "\n",
       "    project_submitted_datetime project_grade_category  \\\n",
       "148        2016-08-07 20:33:16            Grades 9-12   \n",
       "153        2016-08-07 20:33:16            Grades 9-12   \n",
       "394        2016-09-22 01:14:50          Grades PreK-2   \n",
       "469        2016-08-20 11:27:08          Grades PreK-2   \n",
       "740        2017-03-02 16:57:41          Grades PreK-2   \n",
       "\n",
       "              project_subject_categories project_subject_subcategories  \\\n",
       "148                     Music & The Arts                         Music   \n",
       "153                     Music & The Arts                         Music   \n",
       "394   Literacy & Language, Special Needs       Literacy, Special Needs   \n",
       "469                      Health & Sports             Health & Wellness   \n",
       "740  Literacy & Language, Math & Science         Literacy, Mathematics   \n",
       "\n",
       "                     project_title  \\\n",
       "148                Deeds for Reeds   \n",
       "153                Deeds for Reeds   \n",
       "394        Bring Our Story to Life   \n",
       "469                 Learn and Move   \n",
       "740  Create - Evaluate - Celebrate   \n",
       "\n",
       "                                       project_essay_1  \\\n",
       "148  As I've written here before, we work to use ba...   \n",
       "153  As I've written here before, we work to use ba...   \n",
       "394  The students at my school are multicultural, c...   \n",
       "469  As a teacher in a low-income/high poverty scho...   \n",
       "740  CREATE - EVALUATE - CELEBRATE!!!!\\r\\nEach chil...   \n",
       "\n",
       "                                       project_essay_2  \\\n",
       "148  A guitar can't sound good with broken or worn ...   \n",
       "153  A guitar can't sound good with broken or worn ...   \n",
       "394  My students struggle with writing.  Sometimes ...   \n",
       "469  This past year I noticed how wiggly my student...   \n",
       "740  Osmo states that it enables the iPad to merge ...   \n",
       "\n",
       "                              project_resource_summary  \\\n",
       "148  My students need access to quality replacement...   \n",
       "153  My students need access to quality replacement...   \n",
       "394  My students need a printer, ink and paper.  Th...   \n",
       "469  My students need Hokk chairsi, wobble chairs a...   \n",
       "740  My students need to be challenged using techno...   \n",
       "\n",
       "     teacher_number_of_previously_posted_projects  project_is_approved  \\\n",
       "148                                             3                    1   \n",
       "153                                             3                    1   \n",
       "394                                             0                    1   \n",
       "469                                             0                    0   \n",
       "740                                             2                    1   \n",
       "\n",
       "                                           description  quantity  price  \n",
       "148                              Tenor Saxophone Reeds         1  20.95  \n",
       "153                      Traditional Bb Clarinet Reeds         6  21.95  \n",
       "394  Brother LC109BK - Super High Yield - black - o...         1  32.70  \n",
       "469  Norwood Commercial Furniture NOR-STOOLBS-SO Pl...         1  48.95  \n",
       "740                                   Osmo Starter Kit         1  79.99  "
      ]
     },
     "execution_count": 54,
     "metadata": {},
     "output_type": "execute_result"
    }
   ],
   "source": [
    "train_res_df.loc[train_res_df.duplicated(),:][0:5]"
   ]
  },
  {
   "cell_type": "markdown",
   "metadata": {},
   "source": [
    "> Observation: These are the sum of the duplicate rows"
   ]
  },
  {
   "cell_type": "code",
   "execution_count": 55,
   "metadata": {},
   "outputs": [
    {
     "data": {
      "text/html": [
       "<div>\n",
       "<style scoped>\n",
       "    .dataframe tbody tr th:only-of-type {\n",
       "        vertical-align: middle;\n",
       "    }\n",
       "\n",
       "    .dataframe tbody tr th {\n",
       "        vertical-align: top;\n",
       "    }\n",
       "\n",
       "    .dataframe thead th {\n",
       "        text-align: right;\n",
       "    }\n",
       "</style>\n",
       "<table border=\"1\" class=\"dataframe\">\n",
       "  <thead>\n",
       "    <tr style=\"text-align: right;\">\n",
       "      <th></th>\n",
       "      <th>id</th>\n",
       "      <th>teacher_id</th>\n",
       "      <th>teacher_prefix</th>\n",
       "      <th>school_state</th>\n",
       "      <th>project_submitted_datetime</th>\n",
       "      <th>project_grade_category</th>\n",
       "      <th>project_subject_categories</th>\n",
       "      <th>project_subject_subcategories</th>\n",
       "      <th>project_title</th>\n",
       "      <th>project_essay_1</th>\n",
       "      <th>project_essay_2</th>\n",
       "      <th>project_resource_summary</th>\n",
       "      <th>teacher_number_of_previously_posted_projects</th>\n",
       "      <th>project_is_approved</th>\n",
       "      <th>description</th>\n",
       "      <th>quantity</th>\n",
       "      <th>price</th>\n",
       "    </tr>\n",
       "  </thead>\n",
       "  <tbody>\n",
       "    <tr>\n",
       "      <th>393</th>\n",
       "      <td>p160114</td>\n",
       "      <td>d523f258b55bb41c3bcb6dd67cfab6c1</td>\n",
       "      <td>Ms.</td>\n",
       "      <td>OK</td>\n",
       "      <td>2016-09-22 01:14:50</td>\n",
       "      <td>Grades PreK-2</td>\n",
       "      <td>Literacy &amp; Language, Special Needs</td>\n",
       "      <td>Literacy, Special Needs</td>\n",
       "      <td>Bring Our Story to Life</td>\n",
       "      <td>The students at my school are multicultural, c...</td>\n",
       "      <td>My students struggle with writing.  Sometimes ...</td>\n",
       "      <td>My students need a printer, ink and paper.  Th...</td>\n",
       "      <td>0</td>\n",
       "      <td>1</td>\n",
       "      <td>Brother LC109BK - Super High Yield - black - o...</td>\n",
       "      <td>1</td>\n",
       "      <td>32.7</td>\n",
       "    </tr>\n",
       "    <tr>\n",
       "      <th>394</th>\n",
       "      <td>p160114</td>\n",
       "      <td>d523f258b55bb41c3bcb6dd67cfab6c1</td>\n",
       "      <td>Ms.</td>\n",
       "      <td>OK</td>\n",
       "      <td>2016-09-22 01:14:50</td>\n",
       "      <td>Grades PreK-2</td>\n",
       "      <td>Literacy &amp; Language, Special Needs</td>\n",
       "      <td>Literacy, Special Needs</td>\n",
       "      <td>Bring Our Story to Life</td>\n",
       "      <td>The students at my school are multicultural, c...</td>\n",
       "      <td>My students struggle with writing.  Sometimes ...</td>\n",
       "      <td>My students need a printer, ink and paper.  Th...</td>\n",
       "      <td>0</td>\n",
       "      <td>1</td>\n",
       "      <td>Brother LC109BK - Super High Yield - black - o...</td>\n",
       "      <td>1</td>\n",
       "      <td>32.7</td>\n",
       "    </tr>\n",
       "  </tbody>\n",
       "</table>\n",
       "</div>"
      ],
      "text/plain": [
       "          id                        teacher_id teacher_prefix school_state  \\\n",
       "393  p160114  d523f258b55bb41c3bcb6dd67cfab6c1            Ms.           OK   \n",
       "394  p160114  d523f258b55bb41c3bcb6dd67cfab6c1            Ms.           OK   \n",
       "\n",
       "    project_submitted_datetime project_grade_category  \\\n",
       "393        2016-09-22 01:14:50          Grades PreK-2   \n",
       "394        2016-09-22 01:14:50          Grades PreK-2   \n",
       "\n",
       "             project_subject_categories project_subject_subcategories  \\\n",
       "393  Literacy & Language, Special Needs       Literacy, Special Needs   \n",
       "394  Literacy & Language, Special Needs       Literacy, Special Needs   \n",
       "\n",
       "               project_title  \\\n",
       "393  Bring Our Story to Life   \n",
       "394  Bring Our Story to Life   \n",
       "\n",
       "                                       project_essay_1  \\\n",
       "393  The students at my school are multicultural, c...   \n",
       "394  The students at my school are multicultural, c...   \n",
       "\n",
       "                                       project_essay_2  \\\n",
       "393  My students struggle with writing.  Sometimes ...   \n",
       "394  My students struggle with writing.  Sometimes ...   \n",
       "\n",
       "                              project_resource_summary  \\\n",
       "393  My students need a printer, ink and paper.  Th...   \n",
       "394  My students need a printer, ink and paper.  Th...   \n",
       "\n",
       "     teacher_number_of_previously_posted_projects  project_is_approved  \\\n",
       "393                                             0                    1   \n",
       "394                                             0                    1   \n",
       "\n",
       "                                           description  quantity  price  \n",
       "393  Brother LC109BK - Super High Yield - black - o...         1   32.7  \n",
       "394  Brother LC109BK - Super High Yield - black - o...         1   32.7  "
      ]
     },
     "execution_count": 55,
     "metadata": {},
     "output_type": "execute_result"
    }
   ],
   "source": [
    "train_res_df[(train_res_df['id']=='p160114') & (train_res_df['price']==32.7)]"
   ]
  },
  {
   "cell_type": "markdown",
   "metadata": {},
   "source": [
    "> As we can see The above 2 rows are Exactly the same, We are removing these kind of rows."
   ]
  },
  {
   "cell_type": "markdown",
   "metadata": {},
   "source": [
    "##### Removing Duplicate rows"
   ]
  },
  {
   "cell_type": "code",
   "execution_count": 56,
   "metadata": {},
   "outputs": [
    {
     "data": {
      "text/plain": [
       "(1073254, 17)"
      ]
     },
     "execution_count": 56,
     "metadata": {},
     "output_type": "execute_result"
    }
   ],
   "source": [
    "train_res_df=train_res_df.drop_duplicates(keep='first', inplace=False)\n",
    "train_res_df.shape"
   ]
  },
  {
   "cell_type": "markdown",
   "metadata": {},
   "source": [
    "## 3.3 Lets Understand the data"
   ]
  },
  {
   "cell_type": "code",
   "execution_count": 22,
   "metadata": {},
   "outputs": [
    {
     "data": {
      "text/plain": [
       "count    1.073254e+06\n",
       "mean     1.256718e+01\n",
       "std      3.042456e+01\n",
       "min      0.000000e+00\n",
       "25%      0.000000e+00\n",
       "50%      3.000000e+00\n",
       "75%      1.000000e+01\n",
       "max      4.510000e+02\n",
       "Name: teacher_number_of_previously_posted_projects, dtype: float64"
      ]
     },
     "execution_count": 22,
     "metadata": {},
     "output_type": "execute_result"
    }
   ],
   "source": [
    "train_res_df['teacher_number_of_previously_posted_projects'].describe()"
   ]
  },
  {
   "cell_type": "markdown",
   "metadata": {},
   "source": [
    "-> Observation: \n",
    "<ul>\n",
    "    <li>Max no.of Projects Posted by a Teacher is 45</li>\n",
    "    <li>75% of the Teachers have posted around 10 Projects</li>\n",
    "</ul>\n"
   ]
  },
  {
   "cell_type": "markdown",
   "metadata": {},
   "source": [
    "### Statewise Submissions"
   ]
  },
  {
   "cell_type": "code",
   "execution_count": 26,
   "metadata": {},
   "outputs": [],
   "source": [
    "train_df =train_df.sort_values(by=['school_state'])"
   ]
  },
  {
   "cell_type": "code",
   "execution_count": 27,
   "metadata": {},
   "outputs": [],
   "source": [
    "state_wise_count = train_df[['id','school_state']].groupby('school_state').count()"
   ]
  },
  {
   "cell_type": "code",
   "execution_count": 28,
   "metadata": {},
   "outputs": [],
   "source": [
    "state_wise_count = state_wise_count.sort_values(by='id',ascending=False)"
   ]
  },
  {
   "cell_type": "code",
   "execution_count": 29,
   "metadata": {},
   "outputs": [
    {
     "data": {
      "image/png": "[encoded data removed]",
      "text/plain": [
       "<Figure size 432x288 with 1 Axes>"
      ]
     },
     "metadata": {
      "needs_background": "light"
     },
     "output_type": "display_data"
    }
   ],
   "source": [
    "i=np.arange(20)\n",
    "state_wise_count.head(20).plot(kind='bar')\n",
    "plt.title('Proj Submissions by States')\n",
    "plt.xticks(i, state_wise_count.index)\n",
    "plt.xlabel('States')\n",
    "plt.ylabel('No.of Submissions')\n",
    "plt.show()\n"
   ]
  },
  {
   "cell_type": "markdown",
   "metadata": {},
   "source": [
    "> Observation: We can observe that Submissions from California is More than other States."
   ]
  },
  {
   "cell_type": "markdown",
   "metadata": {},
   "source": [
    "### Count of Projs in each Category"
   ]
  },
  {
   "cell_type": "code",
   "execution_count": 30,
   "metadata": {},
   "outputs": [],
   "source": [
    "proj_wise_count = train_df[['id','project_subject_categories']].groupby('project_subject_categories').count()"
   ]
  },
  {
   "cell_type": "code",
   "execution_count": 31,
   "metadata": {},
   "outputs": [],
   "source": [
    "proj_wise_count = proj_wise_count.sort_values(by='id',ascending=False)"
   ]
  },
  {
   "cell_type": "code",
   "execution_count": 32,
   "metadata": {},
   "outputs": [],
   "source": [
    "# Converting Counts to percentages\n",
    "proj_wise_count = (proj_wise_count/proj_wise_count.sum()*100)"
   ]
  },
  {
   "cell_type": "code",
   "execution_count": 33,
   "metadata": {},
   "outputs": [
    {
     "data": {
      "image/png": "[encoded data removed]",
      "text/plain": [
       "<Figure size 432x288 with 1 Axes>"
      ]
     },
     "metadata": {
      "needs_background": "light"
     },
     "output_type": "display_data"
    }
   ],
   "source": [
    "i=np.arange(20)\n",
    "proj_wise_count.head(20).plot(kind='bar')\n",
    "plt.title('Proj Category vs No.of Submission in that Category')\n",
    "plt.xticks(i, proj_wise_count.index)\n",
    "plt.xlabel('Project Category')\n",
    "plt.ylabel('No.of Submissions')\n",
    "plt.show()"
   ]
  },
  {
   "cell_type": "code",
   "execution_count": 34,
   "metadata": {},
   "outputs": [
    {
     "data": {
      "text/plain": [
       "id    75.707931\n",
       "dtype: float64"
      ]
     },
     "execution_count": 34,
     "metadata": {},
     "output_type": "execute_result"
    }
   ],
   "source": [
    "proj_wise_count.head(8).sum()"
   ]
  },
  {
   "cell_type": "markdown",
   "metadata": {},
   "source": [
    "> Observation: Top 8 projects Contribute 75% of total Submissions, among which 'Literacy & Language' Category Ranks 1st with 21%."
   ]
  },
  {
   "cell_type": "markdown",
   "metadata": {},
   "source": [
    "### Count of Projs in each SubCategory"
   ]
  },
  {
   "cell_type": "code",
   "execution_count": 253,
   "metadata": {},
   "outputs": [],
   "source": [
    "proj_wise_count = train_df[['id','project_subject_subcategories']].groupby('project_subject_subcategories').count()\n",
    "proj_wise_count = proj_wise_count.sort_values(by='id',ascending=False)\n",
    "# Converting Counts to percentages\n",
    "proj_wise_count = (proj_wise_count/proj_wise_count.sum()*100)"
   ]
  },
  {
   "cell_type": "code",
   "execution_count": 259,
   "metadata": {},
   "outputs": [
    {
     "data": {
      "image/png": "[encoded data removed]",
      "text/plain": [
       "<Figure size 432x288 with 1 Axes>"
      ]
     },
     "metadata": {
      "needs_background": "light"
     },
     "output_type": "display_data"
    }
   ],
   "source": [
    "i=np.arange(20)\n",
    "proj_wise_count.head(20).plot(kind='bar')\n",
    "plt.title('Proj Category vs No.of Submission in that Category')\n",
    "plt.xticks(i, proj_wise_count.head(20).index)\n",
    "plt.xlabel('Project SubCategory')\n",
    "plt.ylabel('No.of Submissions')\n",
    "plt.show()"
   ]
  },
  {
   "cell_type": "code",
   "execution_count": 258,
   "metadata": {},
   "outputs": [
    {
     "data": {
      "text/plain": [
       "id    72.283612\n",
       "dtype: float64"
      ]
     },
     "execution_count": 258,
     "metadata": {},
     "output_type": "execute_result"
    }
   ],
   "source": [
    "proj_wise_count.head(30).sum()"
   ]
  },
  {
   "cell_type": "markdown",
   "metadata": {},
   "source": [
    "> Observation: These are the Top 20 Sub Categories of the Projects out of which Literacy is highest followed by Literacy n Mathematics"
   ]
  },
  {
   "cell_type": "markdown",
   "metadata": {},
   "source": [
    "### Lets see freq of Teacher no.of Previously Posted Projects"
   ]
  },
  {
   "cell_type": "code",
   "execution_count": 45,
   "metadata": {},
   "outputs": [
    {
     "data": {
      "image/png": "[encoded data removed]",
      "text/plain": [
       "<Figure size 432x288 with 1 Axes>"
      ]
     },
     "metadata": {
      "needs_background": "light"
     },
     "output_type": "display_data"
    }
   ],
   "source": [
    "sns.distplot(train_df['teacher_number_of_previously_posted_projects'])\n",
    "\n",
    "plt.show()\n",
    "\n"
   ]
  },
  {
   "cell_type": "markdown",
   "metadata": {},
   "source": [
    "### Lets See Success Rate of Project Approval teacher wise"
   ]
  },
  {
   "cell_type": "code",
   "execution_count": 124,
   "metadata": {},
   "outputs": [],
   "source": [
    "train_df_subset_cols = train_df[['teacher_id','teacher_number_of_previously_posted_projects','project_is_approved']]"
   ]
  },
  {
   "cell_type": "code",
   "execution_count": 132,
   "metadata": {},
   "outputs": [],
   "source": [
    "grp_teacher_id = train_df_subset_cols.groupby('teacher_id')\n",
    "teacher_wise_approved_cnt = list(grp_teacher_id['project_is_approved'].sum())\n",
    "teacher_wise_proj_cnt = list(grp_teacher_id.apply(len))\n",
    "teacher_ids = list(grp_teacher_id.apply(len).index)\n",
    "df_submitted_vs_approved = pd.DataFrame(\n",
    "    {'teacher_id': teacher_ids,\n",
    "     'no.of_projs_submitted': teacher_wise_proj_cnt,\n",
    "     'no.of_projs_approved': teacher_wise_approved_cnt\n",
    "    })\n",
    "df_submitted_vs_approved['PercentageOfApproved'] = (df_submitted_vs_approved['no.of_projs_approved']/df_submitted_vs_approved['no.of_projs_submitted'])*100"
   ]
  },
  {
   "cell_type": "code",
   "execution_count": 214,
   "metadata": {},
   "outputs": [
    {
     "data": {
      "image/png": "[encoded data removed]",
      "text/plain": [
       "<Figure size 432x288 with 1 Axes>"
      ]
     },
     "metadata": {
      "needs_background": "light"
     },
     "output_type": "display_data"
    }
   ],
   "source": [
    "sns.distplot(df_submitted_vs_approved['PercentageOfApproved'])\n",
    "plt.grid()\n",
    "plt.show()"
   ]
  },
  {
   "cell_type": "code",
   "execution_count": 283,
   "metadata": {},
   "outputs": [
    {
     "data": {
      "text/plain": [
       "Text(0.5,1,'Correlation between Projects Approved vs Projects Submitted by a Teacher')"
      ]
     },
     "execution_count": 283,
     "metadata": {},
     "output_type": "execute_result"
    },
    {
     "data": {
      "image/png": "[encoded data removed]",
      "text/plain": [
       "<Figure size 864x864 with 2 Axes>"
      ]
     },
     "metadata": {
      "needs_background": "light"
     },
     "output_type": "display_data"
    }
   ],
   "source": [
    "correlation = df_submitted_vs_approved[['no.of_projs_submitted','no.of_projs_approved']].corr()\n",
    "plt.figure(figsize=(12,12))\n",
    "sns.heatmap(correlation, \n",
    "            xticklabels=correlation.columns.values,\n",
    "            yticklabels=correlation.columns.values, annot=True, square=True)\n",
    "plt.title('Correlation between Projects Approved vs Projects Submitted by a Teacher')\n"
   ]
  },
  {
   "cell_type": "code",
   "execution_count": 194,
   "metadata": {},
   "outputs": [],
   "source": [
    "df_submitted_vs_approved['PercentageOfApproved'] = df_submitted_vs_approved['PercentageOfApproved'].astype(int)"
   ]
  },
  {
   "cell_type": "code",
   "execution_count": 247,
   "metadata": {},
   "outputs": [],
   "source": [
    "count_at_that_percentage = df_submitted_vs_approved.groupby('PercentageOfApproved').apply(len)"
   ]
  },
  {
   "cell_type": "code",
   "execution_count": 250,
   "metadata": {},
   "outputs": [
    {
     "data": {
      "image/png": "[encoded data removed]",
      "text/plain": [
       "<Figure size 864x720 with 1 Axes>"
      ]
     },
     "metadata": {
      "needs_background": "light"
     },
     "output_type": "display_data"
    }
   ],
   "source": [
    "i=np.arange(53)\n",
    "plt.figure(figsize=(12,10))\n",
    "count_at_that_percentage.head(53).plot(kind='bar')\n",
    "plt.title('Percentage of Approval Vs Count of Approved projects TeacherWise')\n",
    "plt.xticks(i, count_at_that_percentage.head(53).index)\n",
    "plt.xlabel('Percentage of Approval')\n",
    "plt.ylabel('Count at that percentage')\n",
    "plt.grid()\n",
    "plt.show()"
   ]
  },
  {
   "cell_type": "markdown",
   "metadata": {},
   "source": [
    "Explanation: We have calculated, Teacher wise \"projects_approved/projects_submitted percentage\" then performed Groupby on Percentage calculated to get the insights of success rate of teacher wise projects Approval."
   ]
  },
  {
   "cell_type": "markdown",
   "metadata": {},
   "source": [
    "> Observation: We can see that in case of Most of the teachers the approval rate is 100%, followed by 0% for some of the teachers. "
   ]
  },
  {
   "cell_type": "markdown",
   "metadata": {},
   "source": [
    "### School Grade wise Project submissions"
   ]
  },
  {
   "cell_type": "code",
   "execution_count": 270,
   "metadata": {},
   "outputs": [],
   "source": [
    "grade_wise_count = train_df[['id','project_grade_category']].groupby('project_grade_category').count()\n",
    "grade_wise_count = proj_wise_count.sort_values(by='id',ascending=False)\n",
    "# Converting Counts to percentages\n",
    "grade_wise_count = (proj_wise_count/proj_wise_count.sum()*100)"
   ]
  },
  {
   "cell_type": "code",
   "execution_count": 271,
   "metadata": {},
   "outputs": [
    {
     "data": {
      "image/png": "[encoded data removed]",
      "text/plain": [
       "<Figure size 432x288 with 1 Axes>"
      ]
     },
     "metadata": {
      "needs_background": "light"
     },
     "output_type": "display_data"
    }
   ],
   "source": [
    "i=np.arange(4)\n",
    "grade_wise_count.head(4).plot(kind='bar')\n",
    "plt.title('Proj Category vs No.of Submission in that Category')\n",
    "plt.xlabel('Grade Level')\n",
    "plt.ylabel('No.of Submissions')\n",
    "plt.show()"
   ]
  },
  {
   "cell_type": "markdown",
   "metadata": {},
   "source": [
    "# Data Preprocessing"
   ]
  },
  {
   "cell_type": "markdown",
   "metadata": {},
   "source": [
    "## Lets Remove unnecessary Features"
   ]
  },
  {
   "cell_type": "code",
   "execution_count": 64,
   "metadata": {},
   "outputs": [],
   "source": [
    "train_res_df = train_res_df.sort_values(by=['project_submitted_datetime'])"
   ]
  },
  {
   "cell_type": "code",
   "execution_count": 66,
   "metadata": {},
   "outputs": [],
   "source": [
    "train_res_df['Price'] = train_res_df['quantity']*train_res_df['price']"
   ]
  },
  {
   "cell_type": "code",
   "execution_count": 67,
   "metadata": {},
   "outputs": [],
   "source": [
    "train_res_df = train_res_df.drop(['quantity','price'],axis=1)"
   ]
  },
  {
   "cell_type": "code",
   "execution_count": 83,
   "metadata": {},
   "outputs": [],
   "source": [
    "'''pickle_out=open(\"beforeFeatures_Removal.pickle\",\"wb\")\n",
    "pickle.dump(train_res_df,pickle_out)\n",
    "pickle_out.close()'''"
   ]
  },
  {
   "cell_type": "code",
   "execution_count": 68,
   "metadata": {},
   "outputs": [],
   "source": [
    "train_res_dim_df = train_res_df.drop(['id','teacher_id','project_submitted_datetime','project_title','project_resource_summary','description'],axis=1)"
   ]
  },
  {
   "cell_type": "markdown",
   "metadata": {},
   "source": [
    "## Lets Convert Categorical and text Features to Numerical Features"
   ]
  },
  {
   "cell_type": "code",
   "execution_count": 69,
   "metadata": {},
   "outputs": [
    {
     "data": {
      "text/html": [
       "<div>\n",
       "<style scoped>\n",
       "    .dataframe tbody tr th:only-of-type {\n",
       "        vertical-align: middle;\n",
       "    }\n",
       "\n",
       "    .dataframe tbody tr th {\n",
       "        vertical-align: top;\n",
       "    }\n",
       "\n",
       "    .dataframe thead th {\n",
       "        text-align: right;\n",
       "    }\n",
       "</style>\n",
       "<table border=\"1\" class=\"dataframe\">\n",
       "  <thead>\n",
       "    <tr style=\"text-align: right;\">\n",
       "      <th></th>\n",
       "      <th>teacher_prefix</th>\n",
       "      <th>school_state</th>\n",
       "      <th>project_grade_category</th>\n",
       "      <th>project_subject_categories</th>\n",
       "      <th>project_subject_subcategories</th>\n",
       "      <th>project_essay_1</th>\n",
       "      <th>project_essay_2</th>\n",
       "      <th>teacher_number_of_previously_posted_projects</th>\n",
       "      <th>project_is_approved</th>\n",
       "      <th>Price</th>\n",
       "    </tr>\n",
       "  </thead>\n",
       "  <tbody>\n",
       "    <tr>\n",
       "      <th>763814</th>\n",
       "      <td>Ms.</td>\n",
       "      <td>CA</td>\n",
       "      <td>Grades 6-8</td>\n",
       "      <td>Math &amp; Science</td>\n",
       "      <td>Applied Sciences</td>\n",
       "      <td>I love giving my students experiences. A new e...</td>\n",
       "      <td>My students can vary quite dramatically. I hav...</td>\n",
       "      <td>30</td>\n",
       "      <td>1</td>\n",
       "      <td>596.00</td>\n",
       "    </tr>\n",
       "    <tr>\n",
       "      <th>1028203</th>\n",
       "      <td>Ms.</td>\n",
       "      <td>TX</td>\n",
       "      <td>Grades PreK-2</td>\n",
       "      <td>Literacy &amp; Language, Math &amp; Science</td>\n",
       "      <td>Foreign Languages, Mathematics</td>\n",
       "      <td>We are getting closer to the end of the year, ...</td>\n",
       "      <td>Welcome to our Pre-K classroom. We work hard e...</td>\n",
       "      <td>1</td>\n",
       "      <td>1</td>\n",
       "      <td>9.99</td>\n",
       "    </tr>\n",
       "    <tr>\n",
       "      <th>1028198</th>\n",
       "      <td>Ms.</td>\n",
       "      <td>TX</td>\n",
       "      <td>Grades PreK-2</td>\n",
       "      <td>Literacy &amp; Language, Math &amp; Science</td>\n",
       "      <td>Foreign Languages, Mathematics</td>\n",
       "      <td>We are getting closer to the end of the year, ...</td>\n",
       "      <td>Welcome to our Pre-K classroom. We work hard e...</td>\n",
       "      <td>1</td>\n",
       "      <td>1</td>\n",
       "      <td>29.99</td>\n",
       "    </tr>\n",
       "    <tr>\n",
       "      <th>1028199</th>\n",
       "      <td>Ms.</td>\n",
       "      <td>TX</td>\n",
       "      <td>Grades PreK-2</td>\n",
       "      <td>Literacy &amp; Language, Math &amp; Science</td>\n",
       "      <td>Foreign Languages, Mathematics</td>\n",
       "      <td>We are getting closer to the end of the year, ...</td>\n",
       "      <td>Welcome to our Pre-K classroom. We work hard e...</td>\n",
       "      <td>1</td>\n",
       "      <td>1</td>\n",
       "      <td>29.99</td>\n",
       "    </tr>\n",
       "    <tr>\n",
       "      <th>1028200</th>\n",
       "      <td>Ms.</td>\n",
       "      <td>TX</td>\n",
       "      <td>Grades PreK-2</td>\n",
       "      <td>Literacy &amp; Language, Math &amp; Science</td>\n",
       "      <td>Foreign Languages, Mathematics</td>\n",
       "      <td>We are getting closer to the end of the year, ...</td>\n",
       "      <td>Welcome to our Pre-K classroom. We work hard e...</td>\n",
       "      <td>1</td>\n",
       "      <td>1</td>\n",
       "      <td>29.99</td>\n",
       "    </tr>\n",
       "  </tbody>\n",
       "</table>\n",
       "</div>"
      ],
      "text/plain": [
       "        teacher_prefix school_state project_grade_category  \\\n",
       "763814             Ms.           CA             Grades 6-8   \n",
       "1028203            Ms.           TX          Grades PreK-2   \n",
       "1028198            Ms.           TX          Grades PreK-2   \n",
       "1028199            Ms.           TX          Grades PreK-2   \n",
       "1028200            Ms.           TX          Grades PreK-2   \n",
       "\n",
       "                  project_subject_categories   project_subject_subcategories  \\\n",
       "763814                        Math & Science                Applied Sciences   \n",
       "1028203  Literacy & Language, Math & Science  Foreign Languages, Mathematics   \n",
       "1028198  Literacy & Language, Math & Science  Foreign Languages, Mathematics   \n",
       "1028199  Literacy & Language, Math & Science  Foreign Languages, Mathematics   \n",
       "1028200  Literacy & Language, Math & Science  Foreign Languages, Mathematics   \n",
       "\n",
       "                                           project_essay_1  \\\n",
       "763814   I love giving my students experiences. A new e...   \n",
       "1028203  We are getting closer to the end of the year, ...   \n",
       "1028198  We are getting closer to the end of the year, ...   \n",
       "1028199  We are getting closer to the end of the year, ...   \n",
       "1028200  We are getting closer to the end of the year, ...   \n",
       "\n",
       "                                           project_essay_2  \\\n",
       "763814   My students can vary quite dramatically. I hav...   \n",
       "1028203  Welcome to our Pre-K classroom. We work hard e...   \n",
       "1028198  Welcome to our Pre-K classroom. We work hard e...   \n",
       "1028199  Welcome to our Pre-K classroom. We work hard e...   \n",
       "1028200  Welcome to our Pre-K classroom. We work hard e...   \n",
       "\n",
       "         teacher_number_of_previously_posted_projects  project_is_approved  \\\n",
       "763814                                             30                    1   \n",
       "1028203                                             1                    1   \n",
       "1028198                                             1                    1   \n",
       "1028199                                             1                    1   \n",
       "1028200                                             1                    1   \n",
       "\n",
       "          Price  \n",
       "763814   596.00  \n",
       "1028203    9.99  \n",
       "1028198   29.99  \n",
       "1028199   29.99  \n",
       "1028200   29.99  "
      ]
     },
     "execution_count": 69,
     "metadata": {},
     "output_type": "execute_result"
    }
   ],
   "source": [
    "train_res_dim_df.head()"
   ]
  },
  {
   "cell_type": "markdown",
   "metadata": {},
   "source": [
    "In our Data Set we have some categorical features like teacher_prefix, school_state,grade etc.. lets convert them to Numerical features"
   ]
  },
  {
   "cell_type": "code",
   "execution_count": 70,
   "metadata": {},
   "outputs": [],
   "source": [
    "categorical_features = ['teacher_prefix','school_state','project_grade_category']\n",
    "\n",
    "for feature in categorical_features:\n",
    "    num = LabelEncoder()\n",
    "    train_res_dim_df[feature] = num.fit_transform(train_res_dim_df[feature].astype('str'))"
   ]
  },
  {
   "cell_type": "code",
   "execution_count": 71,
   "metadata": {},
   "outputs": [
    {
     "data": {
      "text/html": [
       "<div>\n",
       "<style scoped>\n",
       "    .dataframe tbody tr th:only-of-type {\n",
       "        vertical-align: middle;\n",
       "    }\n",
       "\n",
       "    .dataframe tbody tr th {\n",
       "        vertical-align: top;\n",
       "    }\n",
       "\n",
       "    .dataframe thead th {\n",
       "        text-align: right;\n",
       "    }\n",
       "</style>\n",
       "<table border=\"1\" class=\"dataframe\">\n",
       "  <thead>\n",
       "    <tr style=\"text-align: right;\">\n",
       "      <th></th>\n",
       "      <th>teacher_prefix</th>\n",
       "      <th>school_state</th>\n",
       "      <th>project_grade_category</th>\n",
       "      <th>project_subject_categories</th>\n",
       "      <th>project_subject_subcategories</th>\n",
       "      <th>project_essay_1</th>\n",
       "      <th>project_essay_2</th>\n",
       "      <th>teacher_number_of_previously_posted_projects</th>\n",
       "      <th>project_is_approved</th>\n",
       "      <th>Price</th>\n",
       "    </tr>\n",
       "  </thead>\n",
       "  <tbody>\n",
       "    <tr>\n",
       "      <th>763814</th>\n",
       "      <td>3</td>\n",
       "      <td>4</td>\n",
       "      <td>1</td>\n",
       "      <td>Math &amp; Science</td>\n",
       "      <td>Applied Sciences</td>\n",
       "      <td>I love giving my students experiences. A new e...</td>\n",
       "      <td>My students can vary quite dramatically. I hav...</td>\n",
       "      <td>30</td>\n",
       "      <td>1</td>\n",
       "      <td>596.00</td>\n",
       "    </tr>\n",
       "    <tr>\n",
       "      <th>1028203</th>\n",
       "      <td>3</td>\n",
       "      <td>43</td>\n",
       "      <td>3</td>\n",
       "      <td>Literacy &amp; Language, Math &amp; Science</td>\n",
       "      <td>Foreign Languages, Mathematics</td>\n",
       "      <td>We are getting closer to the end of the year, ...</td>\n",
       "      <td>Welcome to our Pre-K classroom. We work hard e...</td>\n",
       "      <td>1</td>\n",
       "      <td>1</td>\n",
       "      <td>9.99</td>\n",
       "    </tr>\n",
       "    <tr>\n",
       "      <th>1028198</th>\n",
       "      <td>3</td>\n",
       "      <td>43</td>\n",
       "      <td>3</td>\n",
       "      <td>Literacy &amp; Language, Math &amp; Science</td>\n",
       "      <td>Foreign Languages, Mathematics</td>\n",
       "      <td>We are getting closer to the end of the year, ...</td>\n",
       "      <td>Welcome to our Pre-K classroom. We work hard e...</td>\n",
       "      <td>1</td>\n",
       "      <td>1</td>\n",
       "      <td>29.99</td>\n",
       "    </tr>\n",
       "    <tr>\n",
       "      <th>1028199</th>\n",
       "      <td>3</td>\n",
       "      <td>43</td>\n",
       "      <td>3</td>\n",
       "      <td>Literacy &amp; Language, Math &amp; Science</td>\n",
       "      <td>Foreign Languages, Mathematics</td>\n",
       "      <td>We are getting closer to the end of the year, ...</td>\n",
       "      <td>Welcome to our Pre-K classroom. We work hard e...</td>\n",
       "      <td>1</td>\n",
       "      <td>1</td>\n",
       "      <td>29.99</td>\n",
       "    </tr>\n",
       "    <tr>\n",
       "      <th>1028200</th>\n",
       "      <td>3</td>\n",
       "      <td>43</td>\n",
       "      <td>3</td>\n",
       "      <td>Literacy &amp; Language, Math &amp; Science</td>\n",
       "      <td>Foreign Languages, Mathematics</td>\n",
       "      <td>We are getting closer to the end of the year, ...</td>\n",
       "      <td>Welcome to our Pre-K classroom. We work hard e...</td>\n",
       "      <td>1</td>\n",
       "      <td>1</td>\n",
       "      <td>29.99</td>\n",
       "    </tr>\n",
       "  </tbody>\n",
       "</table>\n",
       "</div>"
      ],
      "text/plain": [
       "         teacher_prefix  school_state  project_grade_category  \\\n",
       "763814                3             4                       1   \n",
       "1028203               3            43                       3   \n",
       "1028198               3            43                       3   \n",
       "1028199               3            43                       3   \n",
       "1028200               3            43                       3   \n",
       "\n",
       "                  project_subject_categories   project_subject_subcategories  \\\n",
       "763814                        Math & Science                Applied Sciences   \n",
       "1028203  Literacy & Language, Math & Science  Foreign Languages, Mathematics   \n",
       "1028198  Literacy & Language, Math & Science  Foreign Languages, Mathematics   \n",
       "1028199  Literacy & Language, Math & Science  Foreign Languages, Mathematics   \n",
       "1028200  Literacy & Language, Math & Science  Foreign Languages, Mathematics   \n",
       "\n",
       "                                           project_essay_1  \\\n",
       "763814   I love giving my students experiences. A new e...   \n",
       "1028203  We are getting closer to the end of the year, ...   \n",
       "1028198  We are getting closer to the end of the year, ...   \n",
       "1028199  We are getting closer to the end of the year, ...   \n",
       "1028200  We are getting closer to the end of the year, ...   \n",
       "\n",
       "                                           project_essay_2  \\\n",
       "763814   My students can vary quite dramatically. I hav...   \n",
       "1028203  Welcome to our Pre-K classroom. We work hard e...   \n",
       "1028198  Welcome to our Pre-K classroom. We work hard e...   \n",
       "1028199  Welcome to our Pre-K classroom. We work hard e...   \n",
       "1028200  Welcome to our Pre-K classroom. We work hard e...   \n",
       "\n",
       "         teacher_number_of_previously_posted_projects  project_is_approved  \\\n",
       "763814                                             30                    1   \n",
       "1028203                                             1                    1   \n",
       "1028198                                             1                    1   \n",
       "1028199                                             1                    1   \n",
       "1028200                                             1                    1   \n",
       "\n",
       "          Price  \n",
       "763814   596.00  \n",
       "1028203    9.99  \n",
       "1028198   29.99  \n",
       "1028199   29.99  \n",
       "1028200   29.99  "
      ]
     },
     "execution_count": 71,
     "metadata": {},
     "output_type": "execute_result"
    }
   ],
   "source": [
    "train_res_dim_df.head()"
   ]
  },
  {
   "cell_type": "markdown",
   "metadata": {},
   "source": [
    "> Observation: As we can see The Categorical Features are converted to numerical Features"
   ]
  },
  {
   "cell_type": "markdown",
   "metadata": {},
   "source": [
    "### Lets Combine project_subject_categories and subcategories"
   ]
  },
  {
   "cell_type": "code",
   "execution_count": 72,
   "metadata": {},
   "outputs": [],
   "source": [
    "train_res_dim_df['project_subject'] = train_res_dim_df[['project_subject_categories','project_subject_subcategories']].apply(lambda a : ' '.join(a),axis=1)"
   ]
  },
  {
   "cell_type": "code",
   "execution_count": 73,
   "metadata": {},
   "outputs": [
    {
     "data": {
      "text/plain": [
       "763814                       Math & Science Applied Sciences\n",
       "1028203    Literacy & Language, Math & Science Foreign La...\n",
       "1028198    Literacy & Language, Math & Science Foreign La...\n",
       "1028199    Literacy & Language, Math & Science Foreign La...\n",
       "1028200    Literacy & Language, Math & Science Foreign La...\n",
       "Name: project_subject, dtype: object"
      ]
     },
     "execution_count": 73,
     "metadata": {},
     "output_type": "execute_result"
    }
   ],
   "source": [
    "train_res_dim_df = train_res_dim_df.drop(['project_subject_categories','project_subject_subcategories'],axis=1)\n",
    "train_res_dim_df['project_subject'].head()"
   ]
  },
  {
   "cell_type": "markdown",
   "metadata": {},
   "source": [
    "#### Lets Convert Project Subject into word vector"
   ]
  },
  {
   "cell_type": "code",
   "execution_count": 74,
   "metadata": {},
   "outputs": [],
   "source": [
    "#considering only unigrams as text contains less no.of words\n",
    "tfidf_vect = TfidfVectorizer(ngram_range=(1,1))\n",
    "\n",
    "proj_subject_vector = tfidf_vect.fit_transform(train_res_dim_df['project_subject'])"
   ]
  },
  {
   "cell_type": "code",
   "execution_count": 75,
   "metadata": {},
   "outputs": [
    {
     "data": {
      "text/plain": [
       "(1073254, 52)"
      ]
     },
     "execution_count": 75,
     "metadata": {},
     "output_type": "execute_result"
    }
   ],
   "source": [
    "proj_subject_vector.shape"
   ]
  },
  {
   "cell_type": "markdown",
   "metadata": {},
   "source": [
    "### Lets Combine Project essay 1 and Project essay 2"
   ]
  },
  {
   "cell_type": "code",
   "execution_count": 76,
   "metadata": {},
   "outputs": [],
   "source": [
    "train_res_dim_df['about_project'] = train_res_dim_df[['project_essay_1', 'project_essay_2']].apply(lambda x: ' '.join(x), axis=1)"
   ]
  },
  {
   "cell_type": "code",
   "execution_count": 77,
   "metadata": {},
   "outputs": [],
   "source": [
    "train_res_dim_df = train_res_dim_df.drop(['project_essay_1','project_essay_2'],axis=1)"
   ]
  },
  {
   "cell_type": "markdown",
   "metadata": {},
   "source": [
    "#### Lets Clean the Text"
   ]
  },
  {
   "cell_type": "code",
   "execution_count": 78,
   "metadata": {},
   "outputs": [],
   "source": [
    "def cleanpunc(sentence):\n",
    "    cleaned = re.sub(r'[?|!|\\'|\"|#]',r'',sentence)\n",
    "    cleaned = re.sub(r'[.|,|)|(|\\|/]',r' ',cleaned)\n",
    "    return cleaned"
   ]
  },
  {
   "cell_type": "code",
   "execution_count": 79,
   "metadata": {},
   "outputs": [
    {
     "name": "stdout",
     "output_type": "stream",
     "text": [
      "No of Sentences processed:  10000\n",
      "No of Sentences processed:  20000\n",
      "No of Sentences processed:  30000\n",
      "No of Sentences processed:  40000\n",
      "No of Sentences processed:  50000\n",
      "No of Sentences processed:  60000\n",
      "No of Sentences processed:  70000\n",
      "No of Sentences processed:  80000\n",
      "No of Sentences processed:  90000\n",
      "No of Sentences processed:  100000\n",
      "No of Sentences processed:  110000\n",
      "No of Sentences processed:  120000\n",
      "No of Sentences processed:  130000\n",
      "No of Sentences processed:  140000\n",
      "No of Sentences processed:  150000\n",
      "No of Sentences processed:  160000\n",
      "No of Sentences processed:  170000\n",
      "No of Sentences processed:  180000\n",
      "No of Sentences processed:  190000\n",
      "No of Sentences processed:  200000\n",
      "No of Sentences processed:  210000\n",
      "No of Sentences processed:  220000\n",
      "No of Sentences processed:  230000\n",
      "No of Sentences processed:  240000\n",
      "No of Sentences processed:  250000\n",
      "No of Sentences processed:  260000\n",
      "No of Sentences processed:  270000\n",
      "No of Sentences processed:  280000\n",
      "No of Sentences processed:  290000\n",
      "No of Sentences processed:  300000\n",
      "No of Sentences processed:  310000\n",
      "No of Sentences processed:  320000\n",
      "No of Sentences processed:  330000\n",
      "No of Sentences processed:  340000\n",
      "No of Sentences processed:  350000\n",
      "No of Sentences processed:  360000\n",
      "No of Sentences processed:  370000\n",
      "No of Sentences processed:  380000\n",
      "No of Sentences processed:  390000\n",
      "No of Sentences processed:  400000\n",
      "No of Sentences processed:  410000\n",
      "No of Sentences processed:  420000\n",
      "No of Sentences processed:  430000\n",
      "No of Sentences processed:  440000\n",
      "No of Sentences processed:  450000\n",
      "No of Sentences processed:  460000\n",
      "No of Sentences processed:  470000\n",
      "No of Sentences processed:  480000\n",
      "No of Sentences processed:  490000\n",
      "No of Sentences processed:  500000\n",
      "No of Sentences processed:  510000\n",
      "No of Sentences processed:  520000\n",
      "No of Sentences processed:  530000\n",
      "No of Sentences processed:  540000\n",
      "No of Sentences processed:  550000\n",
      "No of Sentences processed:  560000\n",
      "No of Sentences processed:  570000\n",
      "No of Sentences processed:  580000\n",
      "No of Sentences processed:  590000\n",
      "No of Sentences processed:  600000\n",
      "No of Sentences processed:  610000\n",
      "No of Sentences processed:  620000\n",
      "No of Sentences processed:  630000\n",
      "No of Sentences processed:  640000\n",
      "No of Sentences processed:  650000\n",
      "No of Sentences processed:  660000\n",
      "No of Sentences processed:  670000\n",
      "No of Sentences processed:  680000\n",
      "No of Sentences processed:  690000\n",
      "No of Sentences processed:  700000\n",
      "No of Sentences processed:  710000\n",
      "No of Sentences processed:  720000\n",
      "No of Sentences processed:  730000\n",
      "No of Sentences processed:  740000\n",
      "No of Sentences processed:  750000\n",
      "No of Sentences processed:  760000\n",
      "No of Sentences processed:  770000\n",
      "No of Sentences processed:  780000\n",
      "No of Sentences processed:  790000\n",
      "No of Sentences processed:  800000\n",
      "No of Sentences processed:  810000\n",
      "No of Sentences processed:  820000\n",
      "No of Sentences processed:  830000\n",
      "No of Sentences processed:  840000\n",
      "No of Sentences processed:  850000\n",
      "No of Sentences processed:  860000\n",
      "No of Sentences processed:  870000\n",
      "No of Sentences processed:  880000\n",
      "No of Sentences processed:  890000\n",
      "No of Sentences processed:  900000\n",
      "No of Sentences processed:  910000\n",
      "No of Sentences processed:  920000\n",
      "No of Sentences processed:  930000\n",
      "No of Sentences processed:  940000\n",
      "No of Sentences processed:  950000\n",
      "No of Sentences processed:  960000\n",
      "No of Sentences processed:  970000\n",
      "No of Sentences processed:  980000\n",
      "No of Sentences processed:  990000\n",
      "No of Sentences processed:  1000000\n",
      "No of Sentences processed:  1010000\n",
      "No of Sentences processed:  1020000\n",
      "No of Sentences processed:  1030000\n",
      "No of Sentences processed:  1040000\n",
      "No of Sentences processed:  1050000\n",
      "No of Sentences processed:  1060000\n",
      "No of Sentences processed:  1070000\n",
      "Time Taken To Clean the data is:  0:13:37.606990\n"
     ]
    }
   ],
   "source": [
    "start = datetime.now()\n",
    "i=0\n",
    "str1=' '\n",
    "final_string=[]\n",
    "stop = set(stopwords.words('english'))\n",
    "\n",
    "for sent in train_res_dim_df['about_project'].values:\n",
    "    filtered_sentence=[]\n",
    "    \n",
    "    for w in sent.split():\n",
    "        for cleaned_words in cleanpunc(w).split():\n",
    "            if((cleaned_words.isalpha()) & (len(cleaned_words)>2)):    \n",
    "                if(cleaned_words.lower() not in stop):\n",
    "                    filtered_sentence.append(cleaned_words.lower())    \n",
    "                else:\n",
    "                    continue\n",
    "            else:\n",
    "                continue \n",
    "    \n",
    "    #final string of cleaned words\n",
    "    str1 = \" \".join(filtered_sentence) \n",
    "   \n",
    "    \n",
    "    final_string.append(str1)\n",
    "    i+=1\n",
    "    if(i%10000==0):\n",
    "        print(\"No of Sentences processed: \",i)\n",
    "print(\"Time Taken To Clean the data is: \",datetime.now() -start)"
   ]
  },
  {
   "cell_type": "code",
   "execution_count": 80,
   "metadata": {},
   "outputs": [],
   "source": [
    "train_res_dim_df['cleaned_about_project'] = final_string"
   ]
  },
  {
   "cell_type": "code",
   "execution_count": 81,
   "metadata": {},
   "outputs": [
    {
     "data": {
      "text/html": [
       "<div>\n",
       "<style scoped>\n",
       "    .dataframe tbody tr th:only-of-type {\n",
       "        vertical-align: middle;\n",
       "    }\n",
       "\n",
       "    .dataframe tbody tr th {\n",
       "        vertical-align: top;\n",
       "    }\n",
       "\n",
       "    .dataframe thead th {\n",
       "        text-align: right;\n",
       "    }\n",
       "</style>\n",
       "<table border=\"1\" class=\"dataframe\">\n",
       "  <thead>\n",
       "    <tr style=\"text-align: right;\">\n",
       "      <th></th>\n",
       "      <th>teacher_prefix</th>\n",
       "      <th>school_state</th>\n",
       "      <th>project_grade_category</th>\n",
       "      <th>teacher_number_of_previously_posted_projects</th>\n",
       "      <th>project_is_approved</th>\n",
       "      <th>Price</th>\n",
       "      <th>project_subject</th>\n",
       "      <th>about_project</th>\n",
       "      <th>cleaned_about_project</th>\n",
       "    </tr>\n",
       "  </thead>\n",
       "  <tbody>\n",
       "    <tr>\n",
       "      <th>763814</th>\n",
       "      <td>3</td>\n",
       "      <td>4</td>\n",
       "      <td>1</td>\n",
       "      <td>30</td>\n",
       "      <td>1</td>\n",
       "      <td>596.00</td>\n",
       "      <td>Math &amp; Science Applied Sciences</td>\n",
       "      <td>I love giving my students experiences. A new e...</td>\n",
       "      <td>love giving students experiences new experienc...</td>\n",
       "    </tr>\n",
       "    <tr>\n",
       "      <th>1028203</th>\n",
       "      <td>3</td>\n",
       "      <td>43</td>\n",
       "      <td>3</td>\n",
       "      <td>1</td>\n",
       "      <td>1</td>\n",
       "      <td>9.99</td>\n",
       "      <td>Literacy &amp; Language, Math &amp; Science Foreign La...</td>\n",
       "      <td>We are getting closer to the end of the year, ...</td>\n",
       "      <td>getting closer end year still lot work get don...</td>\n",
       "    </tr>\n",
       "    <tr>\n",
       "      <th>1028198</th>\n",
       "      <td>3</td>\n",
       "      <td>43</td>\n",
       "      <td>3</td>\n",
       "      <td>1</td>\n",
       "      <td>1</td>\n",
       "      <td>29.99</td>\n",
       "      <td>Literacy &amp; Language, Math &amp; Science Foreign La...</td>\n",
       "      <td>We are getting closer to the end of the year, ...</td>\n",
       "      <td>getting closer end year still lot work get don...</td>\n",
       "    </tr>\n",
       "    <tr>\n",
       "      <th>1028199</th>\n",
       "      <td>3</td>\n",
       "      <td>43</td>\n",
       "      <td>3</td>\n",
       "      <td>1</td>\n",
       "      <td>1</td>\n",
       "      <td>29.99</td>\n",
       "      <td>Literacy &amp; Language, Math &amp; Science Foreign La...</td>\n",
       "      <td>We are getting closer to the end of the year, ...</td>\n",
       "      <td>getting closer end year still lot work get don...</td>\n",
       "    </tr>\n",
       "    <tr>\n",
       "      <th>1028200</th>\n",
       "      <td>3</td>\n",
       "      <td>43</td>\n",
       "      <td>3</td>\n",
       "      <td>1</td>\n",
       "      <td>1</td>\n",
       "      <td>29.99</td>\n",
       "      <td>Literacy &amp; Language, Math &amp; Science Foreign La...</td>\n",
       "      <td>We are getting closer to the end of the year, ...</td>\n",
       "      <td>getting closer end year still lot work get don...</td>\n",
       "    </tr>\n",
       "  </tbody>\n",
       "</table>\n",
       "</div>"
      ],
      "text/plain": [
       "         teacher_prefix  school_state  project_grade_category  \\\n",
       "763814                3             4                       1   \n",
       "1028203               3            43                       3   \n",
       "1028198               3            43                       3   \n",
       "1028199               3            43                       3   \n",
       "1028200               3            43                       3   \n",
       "\n",
       "         teacher_number_of_previously_posted_projects  project_is_approved  \\\n",
       "763814                                             30                    1   \n",
       "1028203                                             1                    1   \n",
       "1028198                                             1                    1   \n",
       "1028199                                             1                    1   \n",
       "1028200                                             1                    1   \n",
       "\n",
       "          Price                                    project_subject  \\\n",
       "763814   596.00                    Math & Science Applied Sciences   \n",
       "1028203    9.99  Literacy & Language, Math & Science Foreign La...   \n",
       "1028198   29.99  Literacy & Language, Math & Science Foreign La...   \n",
       "1028199   29.99  Literacy & Language, Math & Science Foreign La...   \n",
       "1028200   29.99  Literacy & Language, Math & Science Foreign La...   \n",
       "\n",
       "                                             about_project  \\\n",
       "763814   I love giving my students experiences. A new e...   \n",
       "1028203  We are getting closer to the end of the year, ...   \n",
       "1028198  We are getting closer to the end of the year, ...   \n",
       "1028199  We are getting closer to the end of the year, ...   \n",
       "1028200  We are getting closer to the end of the year, ...   \n",
       "\n",
       "                                     cleaned_about_project  \n",
       "763814   love giving students experiences new experienc...  \n",
       "1028203  getting closer end year still lot work get don...  \n",
       "1028198  getting closer end year still lot work get don...  \n",
       "1028199  getting closer end year still lot work get don...  \n",
       "1028200  getting closer end year still lot work get don...  "
      ]
     },
     "execution_count": 81,
     "metadata": {},
     "output_type": "execute_result"
    }
   ],
   "source": [
    "train_res_dim_df.head()"
   ]
  },
  {
   "cell_type": "code",
   "execution_count": 82,
   "metadata": {},
   "outputs": [],
   "source": [
    "'''pickle_out=open(\"cleanedData.pickle\",\"wb\")\n",
    "pickle.dump(proj_subject_vector,pickle_out)\n",
    "pickle.dump(final_string,pickle_out)\n",
    "pickle.dump(train_res_dim_df,pickle_out)\n",
    "pickle_out.close()'''"
   ]
  },
  {
   "cell_type": "code",
   "execution_count": 2,
   "metadata": {},
   "outputs": [],
   "source": [
    "pickle_in=open(\"cleanedData.pickle\",\"rb\")\n",
    "proj_subject_vector = pickle.load(pickle_in)\n",
    "final_string = pickle.load(pickle_in)\n",
    "train_res_dim_df = pickle.load(pickle_in)\n",
    "pickle_in.close()"
   ]
  },
  {
   "cell_type": "code",
   "execution_count": 11,
   "metadata": {},
   "outputs": [
    {
     "data": {
      "text/plain": [
       "<1073254x52 sparse matrix of type '<class 'numpy.float64'>'\n",
       "\twith 4683669 stored elements in Compressed Sparse Row format>"
      ]
     },
     "execution_count": 11,
     "metadata": {},
     "output_type": "execute_result"
    }
   ],
   "source": [
    "proj_subject_vector"
   ]
  },
  {
   "cell_type": "code",
   "execution_count": 8,
   "metadata": {},
   "outputs": [],
   "source": [
    "'''pickle_out=open(\"projSubjVector.pickle\",\"wb\")\n",
    "pickle.dump(proj_subject_vector,pickle_out)\n",
    "pickle_out.close()'''"
   ]
  },
  {
   "cell_type": "code",
   "execution_count": 3,
   "metadata": {},
   "outputs": [],
   "source": [
    "pickle_in=open(\"projSubjVector.pickle\",\"rb\")\n",
    "proj_subject_vector = pickle.load(pickle_in)\n",
    "\n",
    "pickle_in.close()"
   ]
  },
  {
   "cell_type": "markdown",
   "metadata": {},
   "source": [
    "#### Lets Convert 'about project' into word vector"
   ]
  },
  {
   "cell_type": "code",
   "execution_count": 8,
   "metadata": {},
   "outputs": [
    {
     "name": "stdout",
     "output_type": "stream",
     "text": [
      "Time Taken:  0:02:49.768380\n"
     ]
    }
   ],
   "source": [
    "start = datetime.now()\n",
    "#considering bigrams\n",
    "tfidf_bigram_vect = TfidfVectorizer(ngram_range=(1,2))\n",
    "\n",
    "about_proj_vector = tfidf_bigram_vect.fit_transform(train_res_dim_df['cleaned_about_project'][0:600000])\n",
    "print(\"Time Taken: \",datetime.now() -start)"
   ]
  },
  {
   "cell_type": "code",
   "execution_count": 10,
   "metadata": {},
   "outputs": [
    {
     "data": {
      "text/plain": [
       "(600000, 2273955)"
      ]
     },
     "execution_count": 10,
     "metadata": {},
     "output_type": "execute_result"
    }
   ],
   "source": [
    "about_proj_vector.shape"
   ]
  },
  {
   "cell_type": "code",
   "execution_count": 12,
   "metadata": {},
   "outputs": [],
   "source": [
    "'''pickle_out=open(\"tfidf_vect_projEssay_30000dp.pickle\",\"wb\")\n",
    "pickle.dump(train_res_dim_df,pickle_out)\n",
    "pickle.dump(about_proj_vector,pickle_out)\n",
    "pickle.dump(proj_subject_vector,pickle_out)\n",
    "pickle_out.close()'''"
   ]
  },
  {
   "cell_type": "code",
   "execution_count": 13,
   "metadata": {},
   "outputs": [],
   "source": [
    "#del train_res_dim_df,about_proj_vector,proj_subject_vector"
   ]
  },
  {
   "cell_type": "code",
   "execution_count": 5,
   "metadata": {},
   "outputs": [],
   "source": [
    "pickle_in=open(\"tfidf_vect_projEssay_30000dp.pickle\",\"rb\")\n",
    "train_res_dim_df = pickle.load(pickle_in)\n",
    "about_proj_vector = pickle.load(pickle_in)\n",
    "proj_subject_vector = pickle.load(pickle_in)\n",
    "pickle_in.close()"
   ]
  },
  {
   "cell_type": "code",
   "execution_count": 11,
   "metadata": {},
   "outputs": [],
   "source": [
    "train_res_dim_df = train_res_dim_df[0:600000]"
   ]
  },
  {
   "cell_type": "code",
   "execution_count": 12,
   "metadata": {},
   "outputs": [],
   "source": [
    "scaler = StandardScaler()\n",
    "features = ['teacher_prefix','school_state', 'project_grade_category','teacher_number_of_previously_posted_projects', 'Price']\n",
    "\n",
    "for feature in features:\n",
    "    train_res_dim_df[feature] = scaler.fit_transform(train_res_dim_df[feature].astype(np.float64).values.reshape(-1, 1))\n"
   ]
  },
  {
   "cell_type": "markdown",
   "metadata": {},
   "source": [
    "# Machine Learning Models"
   ]
  },
  {
   "cell_type": "markdown",
   "metadata": {},
   "source": [
    "### Features Considered\n",
    "<ul>\n",
    "    <li>Teacher Prefix</li>\n",
    "    <li>School State</li>\n",
    "    <li>Project Grade Category</li>\n",
    "    <li>Teacher no.of Previously posted Projects</li>\n",
    "    <li>Price</li>\n",
    "    <li>Project Subject(tfidf vector)</li>\n",
    "    <li>Project Essays(tfidf vector)</li>\n",
    "</ul>\n",
    "\n",
    "### Datapoints Considered\n",
    "-> 600000(6 lakhs) out of 1000000(~10 lakhs) datapoints\n",
    "\n",
    "### Considered ML Models\n",
    "#### LightGBM with GBDT,  RF with Logloss\n",
    "-> As it is very suitable for large amount of data, unlike other boosting algorithms LGB grows the tree leaf wise(so that loss will be less), where as other algo(XGB) grows level wise.\n",
    "\n",
    "#### XGB\n",
    "-> SKLearn's implementation is taking huge amount of time, so used XGB.Train, its very fast when compared to SKLearn's implimentation."
   ]
  },
  {
   "cell_type": "code",
   "execution_count": null,
   "metadata": {},
   "outputs": [],
   "source": [
    "X = hstack((train_res_dim_df[['teacher_prefix', 'school_state', 'project_grade_category',\n",
    "       'teacher_number_of_previously_posted_projects',\n",
    "       'Price']],proj_subject_vector[0:600000],about_proj_vector))"
   ]
  },
  {
   "cell_type": "code",
   "execution_count": 14,
   "metadata": {},
   "outputs": [],
   "source": [
    "X = X.tocsr()"
   ]
  },
  {
   "cell_type": "code",
   "execution_count": 15,
   "metadata": {},
   "outputs": [],
   "source": [
    "Y = train_res_dim_df['project_is_approved'].to_sparse().as_matrix()"
   ]
  },
  {
   "cell_type": "code",
   "execution_count": 50,
   "metadata": {},
   "outputs": [],
   "source": [
    "'''pickle_out=open(\"train_test_Split_data.pickle\",\"wb\")\n",
    "pickle.dump(X,pickle_out)\n",
    "pickle.dump(Y,pickle_out)\n",
    "pickle_out.close()'''"
   ]
  },
  {
   "cell_type": "code",
   "execution_count": 2,
   "metadata": {},
   "outputs": [],
   "source": [
    "'''pickle_in=open(\"train_test_Split_data.pickle\",\"rb\")\n",
    "X = pickle.load(pickle_in)\n",
    "Y = pickle.load(pickle_in)\n",
    "pickle_in.close()'''"
   ]
  },
  {
   "cell_type": "code",
   "execution_count": 18,
   "metadata": {},
   "outputs": [],
   "source": [
    "x_train = X[0:550000]\n",
    "x_test = X[550000:600000]"
   ]
  },
  {
   "cell_type": "code",
   "execution_count": 19,
   "metadata": {},
   "outputs": [],
   "source": [
    "y_train = Y[0:550000]\n",
    "y_test = Y[550000:600000]"
   ]
  },
  {
   "cell_type": "code",
   "execution_count": 20,
   "metadata": {},
   "outputs": [
    {
     "data": {
      "text/plain": [
       "429497"
      ]
     },
     "execution_count": 20,
     "metadata": {},
     "output_type": "execute_result"
    }
   ],
   "source": [
    "y_train.sum()"
   ]
  },
  {
   "cell_type": "code",
   "execution_count": 21,
   "metadata": {},
   "outputs": [
    {
     "data": {
      "text/plain": [
       "0.7809036363636364"
      ]
     },
     "execution_count": 21,
     "metadata": {},
     "output_type": "execute_result"
    }
   ],
   "source": [
    "y_train.sum()/y_train.shape[0]"
   ]
  },
  {
   "cell_type": "code",
   "execution_count": 5,
   "metadata": {},
   "outputs": [],
   "source": [
    "def confusionMatrix(y_test,pred):\n",
    "    df_cm = pd.DataFrame(confusion_matrix(y_test, pred), index = ['False','True'],\n",
    "                      columns = ['False','True'])\n",
    "    plt.figure(figsize=(8,6))\n",
    "    sns.heatmap(df_cm, annot=True,fmt='d')\n",
    "    \n",
    "    plt.title('Confusion Matrix')\n",
    "    plt.ylabel('Actual')\n",
    "    plt.xlabel('Predicted')\n",
    "    plt.figure(figsize=(12,10))\n",
    "    plt.show()\n",
    "def auc_roc(y_test,pred):\n",
    "    fpr, tpr, thresholds = roc_curve(y_test,pred)\n",
    "    acc = roc_auc_score(y_test,pred)\n",
    "    print(\"Area Under The Curve is : \",acc)\n",
    "    \n",
    "    plt.figure(figsize=(10,8))\n",
    "    plt.plot(fpr, tpr, color='darkorange',\n",
    "              label='ROC curve (area/auc = %0.2f)' % acc)\n",
    "    plt.plot([0, 1], [0, 1],'r--')\n",
    "    #plt.xlim([0, 1])\n",
    "    #plt.ylim([0, 1])\n",
    "    plt.xlabel('False Positive Rate')\n",
    "    plt.ylabel('True Positive Rate')\n",
    "    plt.title('Receiver operating characteristic Curve')\n",
    "    plt.legend(loc=\"lower right\")\n",
    "    plt.grid()\n",
    "    plt.show()"
   ]
  },
  {
   "cell_type": "markdown",
   "metadata": {},
   "source": [
    "## LGB with GDBT Logloss"
   ]
  },
  {
   "cell_type": "code",
   "execution_count": 16,
   "metadata": {},
   "outputs": [],
   "source": [
    "def train_lgb(boosting_type='gbdt',max_depth=7,num_leaves=32,learning_rate=0.02,n_iter=1000,early_stopping_rounds=25,verbose_eval=25):\n",
    "    params = {\n",
    "        'boosting_type': boosting_type,\n",
    "        'objective': 'binary',\n",
    "        'metric': 'auc',\n",
    "        'max_depth': max_depth,\n",
    "        'num_leaves': num_leaves,\n",
    "        'learning_rate': learning_rate,\n",
    "        'feature_fraction': 0.80,\n",
    "        'bagging_fraction': 0.80,\n",
    "        'bagging_freq': 5,\n",
    "        'verbose': 0,\n",
    "        'lambda_l2': 1,\n",
    "        \n",
    "    }  \n",
    "    evals_result = {}  # to record eval results for plotting\n",
    "    model_lgb = lgb.train(\n",
    "            params,\n",
    "            lgb.Dataset(x_train, y_train),\n",
    "            num_boost_round=n_iter,\n",
    "            valid_sets=[lgb.Dataset(x_test, y_test)],\n",
    "            early_stopping_rounds=early_stopping_rounds,\n",
    "            evals_result=evals_result,\n",
    "            verbose_eval=verbose_eval)\n",
    "    return model_lgb"
   ]
  },
  {
   "cell_type": "code",
   "execution_count": 4,
   "metadata": {},
   "outputs": [],
   "source": [
    "def eval_model(model,x_test,y_test):\n",
    "    y_preds = model_lgb.predict(x_test, num_iteration=model.best_iteration)\n",
    "    pred = [1 if i>=0.56 else 0 for i in y_preds]\n",
    "    confusionMatrix(y_test,pred)\n",
    "    auc_roc(y_test,y_preds)\n",
    "    print(roc_auc_score(y_test, y_preds))"
   ]
  },
  {
   "cell_type": "code",
   "execution_count": 33,
   "metadata": {},
   "outputs": [],
   "source": [
    "'''pickle_out=open(\"lgb_73_auc.pickle\",\"wb\")\n",
    "pickle.dump(model_lgb,pickle_out)\n",
    "pickle.dump(evals_result,pickle_out)\n",
    "pickle.dump(x_train,pickle_out)\n",
    "pickle.dump(y_train,pickle_out)\n",
    "pickle.dump(x_test,pickle_out)\n",
    "pickle.dump(y_test,pickle_out)\n",
    "pickle_out.close()'''"
   ]
  },
  {
   "cell_type": "code",
   "execution_count": 2,
   "metadata": {},
   "outputs": [],
   "source": [
    "pickle_in=open(\"lgb_73_auc.pickle\",\"rb\")\n",
    "model_lgb = pickle.load(pickle_in)\n",
    "evals_result = pickle.load(pickle_in)\n",
    "x_train = pickle.load(pickle_in)\n",
    "y_train = pickle.load(pickle_in)\n",
    "x_test = pickle.load(pickle_in)\n",
    "y_test = pickle.load(pickle_in)\n",
    "pickle_in.close()"
   ]
  },
  {
   "cell_type": "code",
   "execution_count": 101,
   "metadata": {
    "scrolled": true
   },
   "outputs": [
    {
     "name": "stdout",
     "output_type": "stream",
     "text": [
      "Training until validation scores don't improve for 25 rounds.\n",
      "[25]\tvalid_0's auc: 0.68464\n",
      "[50]\tvalid_0's auc: 0.694064\n",
      "[75]\tvalid_0's auc: 0.700353\n",
      "[100]\tvalid_0's auc: 0.704777\n",
      "[125]\tvalid_0's auc: 0.707801\n",
      "[150]\tvalid_0's auc: 0.709807\n",
      "[175]\tvalid_0's auc: 0.713009\n",
      "[200]\tvalid_0's auc: 0.714266\n",
      "[225]\tvalid_0's auc: 0.715773\n",
      "[250]\tvalid_0's auc: 0.71704\n",
      "[275]\tvalid_0's auc: 0.718327\n",
      "[300]\tvalid_0's auc: 0.719557\n",
      "[325]\tvalid_0's auc: 0.720502\n",
      "[350]\tvalid_0's auc: 0.72107\n",
      "[375]\tvalid_0's auc: 0.721646\n",
      "[400]\tvalid_0's auc: 0.722464\n",
      "[425]\tvalid_0's auc: 0.72251\n",
      "[450]\tvalid_0's auc: 0.722975\n",
      "[475]\tvalid_0's auc: 0.724223\n",
      "[500]\tvalid_0's auc: 0.724883\n",
      "[525]\tvalid_0's auc: 0.72524\n",
      "[550]\tvalid_0's auc: 0.725621\n",
      "[575]\tvalid_0's auc: 0.726088\n",
      "[600]\tvalid_0's auc: 0.726318\n",
      "[625]\tvalid_0's auc: 0.726488\n",
      "[650]\tvalid_0's auc: 0.726932\n",
      "Early stopping, best iteration is:\n",
      "[648]\tvalid_0's auc: 0.726983\n"
     ]
    }
   ],
   "source": [
    "model_4 = train_lgb(max_depth=5,num_leaves=31)"
   ]
  },
  {
   "cell_type": "code",
   "execution_count": 102,
   "metadata": {},
   "outputs": [
    {
     "data": {
      "image/png": "[encoded data removed]",
      "text/plain": [
       "<Figure size 576x432 with 2 Axes>"
      ]
     },
     "metadata": {
      "needs_background": "light"
     },
     "output_type": "display_data"
    },
    {
     "data": {
      "text/plain": [
       "<Figure size 864x720 with 0 Axes>"
      ]
     },
     "metadata": {},
     "output_type": "display_data"
    },
    {
     "name": "stdout",
     "output_type": "stream",
     "text": [
      "Area Under The Curve is :  0.7362143395327896\n"
     ]
    },
    {
     "data": {
      "image/png": "[encoded data removed]",
      "text/plain": [
       "<Figure size 720x576 with 1 Axes>"
      ]
     },
     "metadata": {
      "needs_background": "light"
     },
     "output_type": "display_data"
    },
    {
     "name": "stdout",
     "output_type": "stream",
     "text": [
      "0.7362143395327896\n"
     ]
    }
   ],
   "source": [
    "eval_model(model_4,x_test,y_test)"
   ]
  },
  {
   "cell_type": "markdown",
   "metadata": {},
   "source": [
    "> Observation: We got 73.62% auc with max depth of 5 and num of leaves 31"
   ]
  },
  {
   "cell_type": "code",
   "execution_count": 103,
   "metadata": {},
   "outputs": [
    {
     "name": "stdout",
     "output_type": "stream",
     "text": [
      "Training until validation scores don't improve for 25 rounds.\n",
      "[25]\tvalid_0's auc: 0.687231\n",
      "[50]\tvalid_0's auc: 0.693827\n",
      "[75]\tvalid_0's auc: 0.701479\n",
      "[100]\tvalid_0's auc: 0.707053\n",
      "[125]\tvalid_0's auc: 0.71091\n",
      "[150]\tvalid_0's auc: 0.714267\n",
      "[175]\tvalid_0's auc: 0.717517\n",
      "[200]\tvalid_0's auc: 0.719935\n",
      "[225]\tvalid_0's auc: 0.721314\n",
      "[250]\tvalid_0's auc: 0.723573\n",
      "[275]\tvalid_0's auc: 0.724243\n",
      "[300]\tvalid_0's auc: 0.725146\n",
      "[325]\tvalid_0's auc: 0.726404\n",
      "[350]\tvalid_0's auc: 0.727558\n",
      "[375]\tvalid_0's auc: 0.728129\n",
      "[400]\tvalid_0's auc: 0.72902\n",
      "[425]\tvalid_0's auc: 0.729419\n",
      "[450]\tvalid_0's auc: 0.729927\n",
      "[475]\tvalid_0's auc: 0.730834\n",
      "[500]\tvalid_0's auc: 0.730839\n",
      "[525]\tvalid_0's auc: 0.730855\n",
      "[550]\tvalid_0's auc: 0.731623\n",
      "[575]\tvalid_0's auc: 0.73181\n",
      "[600]\tvalid_0's auc: 0.732272\n",
      "[625]\tvalid_0's auc: 0.732075\n",
      "Early stopping, best iteration is:\n",
      "[600]\tvalid_0's auc: 0.732272\n"
     ]
    }
   ],
   "source": [
    "model_2 = train_lgb(max_depth=10,num_leaves=32)"
   ]
  },
  {
   "cell_type": "code",
   "execution_count": 104,
   "metadata": {},
   "outputs": [
    {
     "data": {
      "image/png": "[encoded data removed]",
      "text/plain": [
       "<Figure size 576x432 with 2 Axes>"
      ]
     },
     "metadata": {
      "needs_background": "light"
     },
     "output_type": "display_data"
    },
    {
     "data": {
      "text/plain": [
       "<Figure size 864x720 with 0 Axes>"
      ]
     },
     "metadata": {},
     "output_type": "display_data"
    },
    {
     "name": "stdout",
     "output_type": "stream",
     "text": [
      "Area Under The Curve is :  0.7361099568689176\n"
     ]
    },
    {
     "data": {
      "image/png": "[encoded data removed]",
      "text/plain": [
       "<Figure size 720x576 with 1 Axes>"
      ]
     },
     "metadata": {
      "needs_background": "light"
     },
     "output_type": "display_data"
    },
    {
     "name": "stdout",
     "output_type": "stream",
     "text": [
      "0.7361099568689176\n"
     ]
    }
   ],
   "source": [
    "eval_model(model_2,x_test,y_test)"
   ]
  },
  {
   "cell_type": "code",
   "execution_count": 99,
   "metadata": {
    "scrolled": true
   },
   "outputs": [
    {
     "name": "stdout",
     "output_type": "stream",
     "text": [
      "Training until validation scores don't improve for 25 rounds.\n",
      "[25]\tvalid_0's auc: 0.688052\n",
      "[50]\tvalid_0's auc: 0.693504\n",
      "[75]\tvalid_0's auc: 0.700195\n",
      "[100]\tvalid_0's auc: 0.705473\n",
      "[125]\tvalid_0's auc: 0.709644\n",
      "[150]\tvalid_0's auc: 0.713047\n",
      "[175]\tvalid_0's auc: 0.717415\n",
      "[200]\tvalid_0's auc: 0.719261\n",
      "[225]\tvalid_0's auc: 0.721231\n",
      "[250]\tvalid_0's auc: 0.72407\n",
      "[275]\tvalid_0's auc: 0.725705\n",
      "[300]\tvalid_0's auc: 0.727213\n",
      "[325]\tvalid_0's auc: 0.728402\n",
      "[350]\tvalid_0's auc: 0.729505\n",
      "[375]\tvalid_0's auc: 0.730306\n",
      "[400]\tvalid_0's auc: 0.731149\n",
      "[425]\tvalid_0's auc: 0.732164\n",
      "[450]\tvalid_0's auc: 0.732902\n",
      "[475]\tvalid_0's auc: 0.733736\n",
      "[500]\tvalid_0's auc: 0.734451\n",
      "[525]\tvalid_0's auc: 0.734991\n",
      "[550]\tvalid_0's auc: 0.735491\n",
      "[575]\tvalid_0's auc: 0.735616\n",
      "[600]\tvalid_0's auc: 0.73611\n",
      "[625]\tvalid_0's auc: 0.736115\n",
      "Early stopping, best iteration is:\n",
      "[615]\tvalid_0's auc: 0.736214\n"
     ]
    }
   ],
   "source": [
    "model_5 = train_lgb(max_depth=15,num_leaves=34)"
   ]
  },
  {
   "cell_type": "code",
   "execution_count": 100,
   "metadata": {},
   "outputs": [
    {
     "data": {
      "image/png": "[encoded data removed]",
      "text/plain": [
       "<Figure size 576x432 with 2 Axes>"
      ]
     },
     "metadata": {
      "needs_background": "light"
     },
     "output_type": "display_data"
    },
    {
     "data": {
      "text/plain": [
       "<Figure size 864x720 with 0 Axes>"
      ]
     },
     "metadata": {},
     "output_type": "display_data"
    },
    {
     "name": "stdout",
     "output_type": "stream",
     "text": [
      "Area Under The Curve is :  0.7362143395327896\n"
     ]
    },
    {
     "data": {
      "image/png": "[encoded data removed]",
      "text/plain": [
       "<Figure size 720x576 with 1 Axes>"
      ]
     },
     "metadata": {
      "needs_background": "light"
     },
     "output_type": "display_data"
    },
    {
     "name": "stdout",
     "output_type": "stream",
     "text": [
      "0.7362143395327896\n"
     ]
    }
   ],
   "source": [
    "eval_model(model_5,x_test,y_test)"
   ]
  },
  {
   "cell_type": "code",
   "execution_count": 89,
   "metadata": {},
   "outputs": [
    {
     "name": "stdout",
     "output_type": "stream",
     "text": [
      "Training until validation scores don't improve for 25 rounds.\n",
      "[25]\tvalid_0's auc: 0.688247\n",
      "[50]\tvalid_0's auc: 0.693721\n",
      "[75]\tvalid_0's auc: 0.698523\n",
      "[100]\tvalid_0's auc: 0.703893\n",
      "[125]\tvalid_0's auc: 0.70977\n",
      "[150]\tvalid_0's auc: 0.714765\n",
      "[175]\tvalid_0's auc: 0.717977\n",
      "[200]\tvalid_0's auc: 0.720522\n",
      "[225]\tvalid_0's auc: 0.7231\n",
      "[250]\tvalid_0's auc: 0.726449\n",
      "[275]\tvalid_0's auc: 0.727878\n",
      "[300]\tvalid_0's auc: 0.729583\n",
      "[325]\tvalid_0's auc: 0.730745\n",
      "[350]\tvalid_0's auc: 0.731601\n",
      "[375]\tvalid_0's auc: 0.731693\n",
      "[400]\tvalid_0's auc: 0.732587\n",
      "[425]\tvalid_0's auc: 0.733135\n",
      "[450]\tvalid_0's auc: 0.73422\n",
      "[475]\tvalid_0's auc: 0.734378\n",
      "Early stopping, best iteration is:\n",
      "[463]\tvalid_0's auc: 0.734522\n"
     ]
    }
   ],
   "source": [
    "model_3 = train_lgb(max_depth=20,num_leaves=36)"
   ]
  },
  {
   "cell_type": "code",
   "execution_count": 91,
   "metadata": {},
   "outputs": [
    {
     "data": {
      "image/png": "[encoded data removed]",
      "text/plain": [
       "<Figure size 576x432 with 2 Axes>"
      ]
     },
     "metadata": {
      "needs_background": "light"
     },
     "output_type": "display_data"
    },
    {
     "data": {
      "text/plain": [
       "<Figure size 864x720 with 0 Axes>"
      ]
     },
     "metadata": {},
     "output_type": "display_data"
    },
    {
     "name": "stdout",
     "output_type": "stream",
     "text": [
      "Area Under The Curve is :  0.7333860670669936\n"
     ]
    },
    {
     "data": {
      "image/png": "[encoded data removed]",
      "text/plain": [
       "<Figure size 720x576 with 1 Axes>"
      ]
     },
     "metadata": {
      "needs_background": "light"
     },
     "output_type": "display_data"
    },
    {
     "name": "stdout",
     "output_type": "stream",
     "text": [
      "0.7333860670669936\n"
     ]
    }
   ],
   "source": [
    "eval_model(model_3,x_test,y_test)"
   ]
  },
  {
   "cell_type": "markdown",
   "metadata": {},
   "source": [
    "##  LGB with dart"
   ]
  },
  {
   "cell_type": "code",
   "execution_count": 7,
   "metadata": {},
   "outputs": [
    {
     "name": "stdout",
     "output_type": "stream",
     "text": [
      "Training until validation scores don't improve for 50 rounds.\n",
      "[50]\tvalid_0's auc: 0.688282\n",
      "[100]\tvalid_0's auc: 0.691996\n",
      "[150]\tvalid_0's auc: 0.693841\n",
      "[200]\tvalid_0's auc: 0.697024\n",
      "[250]\tvalid_0's auc: 0.698929\n",
      "[300]\tvalid_0's auc: 0.702231\n",
      "[350]\tvalid_0's auc: 0.704424\n",
      "[400]\tvalid_0's auc: 0.705745\n",
      "[450]\tvalid_0's auc: 0.708638\n",
      "[500]\tvalid_0's auc: 0.710391\n",
      "[550]\tvalid_0's auc: 0.711689\n",
      "[600]\tvalid_0's auc: 0.712798\n",
      "[650]\tvalid_0's auc: 0.714765\n",
      "[700]\tvalid_0's auc: 0.715741\n",
      "[750]\tvalid_0's auc: 0.716624\n",
      "[800]\tvalid_0's auc: 0.717364\n",
      "[850]\tvalid_0's auc: 0.717697\n",
      "[900]\tvalid_0's auc: 0.718748\n",
      "[950]\tvalid_0's auc: 0.720449\n",
      "[1000]\tvalid_0's auc: 0.72225\n",
      "Did not meet early stopping. Best iteration is:\n",
      "[997]\tvalid_0's auc: 0.722425\n"
     ]
    }
   ],
   "source": [
    "model_6 = train_lgb(max_depth=17,num_leaves=32,boosting_type='dart',verbose_eval=50,early_stopping_rounds=50)"
   ]
  },
  {
   "cell_type": "code",
   "execution_count": 8,
   "metadata": {},
   "outputs": [
    {
     "data": {
      "image/png": "[encoded data removed]",
      "text/plain": [
       "<Figure size 576x432 with 2 Axes>"
      ]
     },
     "metadata": {
      "needs_background": "light"
     },
     "output_type": "display_data"
    },
    {
     "data": {
      "text/plain": [
       "<Figure size 864x720 with 0 Axes>"
      ]
     },
     "metadata": {},
     "output_type": "display_data"
    },
    {
     "name": "stdout",
     "output_type": "stream",
     "text": [
      "Area Under The Curve is :  0.7307559887962376\n"
     ]
    },
    {
     "data": {
      "image/png": "[encoded data removed]",
      "text/plain": [
       "<Figure size 720x576 with 1 Axes>"
      ]
     },
     "metadata": {
      "needs_background": "light"
     },
     "output_type": "display_data"
    },
    {
     "name": "stdout",
     "output_type": "stream",
     "text": [
      "0.7307559887962376\n"
     ]
    }
   ],
   "source": [
    "eval_model(model_6,x_test,y_test)"
   ]
  },
  {
   "cell_type": "markdown",
   "metadata": {},
   "source": [
    "## LGB with RF"
   ]
  },
  {
   "cell_type": "code",
   "execution_count": 10,
   "metadata": {},
   "outputs": [
    {
     "name": "stdout",
     "output_type": "stream",
     "text": [
      "Training until validation scores don't improve for 50 rounds.\n",
      "[25]\tvalid_0's auc: 0.681144\n",
      "[50]\tvalid_0's auc: 0.683841\n",
      "[75]\tvalid_0's auc: 0.685312\n",
      "[100]\tvalid_0's auc: 0.685079\n",
      "[125]\tvalid_0's auc: 0.685956\n",
      "Early stopping, best iteration is:\n",
      "[86]\tvalid_0's auc: 0.686144\n"
     ]
    }
   ],
   "source": [
    "model_rf1 = train_lgb(max_depth=15,num_leaves=34,early_stopping_rounds=50,boosting_type='rf')"
   ]
  },
  {
   "cell_type": "code",
   "execution_count": 11,
   "metadata": {},
   "outputs": [
    {
     "data": {
      "image/png": "[encoded data removed]",
      "text/plain": [
       "<Figure size 576x432 with 2 Axes>"
      ]
     },
     "metadata": {
      "needs_background": "light"
     },
     "output_type": "display_data"
    },
    {
     "data": {
      "text/plain": [
       "<Figure size 864x720 with 0 Axes>"
      ]
     },
     "metadata": {},
     "output_type": "display_data"
    },
    {
     "name": "stdout",
     "output_type": "stream",
     "text": [
      "Area Under The Curve is :  0.7013505926260064\n"
     ]
    },
    {
     "data": {
      "image/png": "[encoded data removed]",
      "text/plain": [
       "<Figure size 720x576 with 1 Axes>"
      ]
     },
     "metadata": {
      "needs_background": "light"
     },
     "output_type": "display_data"
    },
    {
     "name": "stdout",
     "output_type": "stream",
     "text": [
      "0.7013505926260064\n"
     ]
    }
   ],
   "source": [
    "eval_model(model_rf1,x_test,y_test)"
   ]
  },
  {
   "cell_type": "markdown",
   "metadata": {},
   "source": [
    "> observation: we got 70% auc with max depth as 15 and no.of leaves 34 using Random Forest"
   ]
  },
  {
   "cell_type": "markdown",
   "metadata": {},
   "source": [
    "## XGBOOST"
   ]
  },
  {
   "cell_type": "code",
   "execution_count": 36,
   "metadata": {},
   "outputs": [
    {
     "name": "stdout",
     "output_type": "stream",
     "text": [
      "[12:23:36] C:\\Users\\Administrator\\Desktop\\xgboost\\src\\tree\\updater_prune.cc:74: tree pruning end, 1 roots, 392 extra nodes, 0 pruned nodes, max_depth=10\n",
      "[0]\ttrain-auc:0.704752\tvalid-auc:0.660359\n",
      "Multiple eval metrics have been passed: 'valid-auc' will be used for early stopping.\n",
      "\n",
      "Will train until valid-auc hasn't improved in 5 rounds.\n",
      "[12:23:59] C:\\Users\\Administrator\\Desktop\\xgboost\\src\\tree\\updater_prune.cc:74: tree pruning end, 1 roots, 418 extra nodes, 0 pruned nodes, max_depth=10\n",
      "[12:24:25] C:\\Users\\Administrator\\Desktop\\xgboost\\src\\tree\\updater_prune.cc:74: tree pruning end, 1 roots, 468 extra nodes, 0 pruned nodes, max_depth=10\n",
      "[12:24:52] C:\\Users\\Administrator\\Desktop\\xgboost\\src\\tree\\updater_prune.cc:74: tree pruning end, 1 roots, 364 extra nodes, 0 pruned nodes, max_depth=10\n",
      "[12:25:20] C:\\Users\\Administrator\\Desktop\\xgboost\\src\\tree\\updater_prune.cc:74: tree pruning end, 1 roots, 400 extra nodes, 0 pruned nodes, max_depth=10\n",
      "[12:25:45] C:\\Users\\Administrator\\Desktop\\xgboost\\src\\tree\\updater_prune.cc:74: tree pruning end, 1 roots, 444 extra nodes, 0 pruned nodes, max_depth=10\n",
      "[12:26:08] C:\\Users\\Administrator\\Desktop\\xgboost\\src\\tree\\updater_prune.cc:74: tree pruning end, 1 roots, 270 extra nodes, 0 pruned nodes, max_depth=10\n",
      "[12:26:28] C:\\Users\\Administrator\\Desktop\\xgboost\\src\\tree\\updater_prune.cc:74: tree pruning end, 1 roots, 316 extra nodes, 0 pruned nodes, max_depth=10\n",
      "[12:26:48] C:\\Users\\Administrator\\Desktop\\xgboost\\src\\tree\\updater_prune.cc:74: tree pruning end, 1 roots, 378 extra nodes, 0 pruned nodes, max_depth=10\n",
      "[12:27:07] C:\\Users\\Administrator\\Desktop\\xgboost\\src\\tree\\updater_prune.cc:74: tree pruning end, 1 roots, 294 extra nodes, 0 pruned nodes, max_depth=10\n",
      "[12:27:31] C:\\Users\\Administrator\\Desktop\\xgboost\\src\\tree\\updater_prune.cc:74: tree pruning end, 1 roots, 266 extra nodes, 0 pruned nodes, max_depth=10\n",
      "[12:27:55] C:\\Users\\Administrator\\Desktop\\xgboost\\src\\tree\\updater_prune.cc:74: tree pruning end, 1 roots, 266 extra nodes, 0 pruned nodes, max_depth=10\n",
      "[12:28:18] C:\\Users\\Administrator\\Desktop\\xgboost\\src\\tree\\updater_prune.cc:74: tree pruning end, 1 roots, 282 extra nodes, 0 pruned nodes, max_depth=10\n",
      "[12:28:42] C:\\Users\\Administrator\\Desktop\\xgboost\\src\\tree\\updater_prune.cc:74: tree pruning end, 1 roots, 382 extra nodes, 0 pruned nodes, max_depth=10\n",
      "[12:29:02] C:\\Users\\Administrator\\Desktop\\xgboost\\src\\tree\\updater_prune.cc:74: tree pruning end, 1 roots, 250 extra nodes, 0 pruned nodes, max_depth=10\n",
      "[12:29:22] C:\\Users\\Administrator\\Desktop\\xgboost\\src\\tree\\updater_prune.cc:74: tree pruning end, 1 roots, 258 extra nodes, 0 pruned nodes, max_depth=10\n",
      "[12:29:42] C:\\Users\\Administrator\\Desktop\\xgboost\\src\\tree\\updater_prune.cc:74: tree pruning end, 1 roots, 354 extra nodes, 0 pruned nodes, max_depth=10\n",
      "[12:30:07] C:\\Users\\Administrator\\Desktop\\xgboost\\src\\tree\\updater_prune.cc:74: tree pruning end, 1 roots, 364 extra nodes, 0 pruned nodes, max_depth=10\n",
      "[12:30:28] C:\\Users\\Administrator\\Desktop\\xgboost\\src\\tree\\updater_prune.cc:74: tree pruning end, 1 roots, 250 extra nodes, 0 pruned nodes, max_depth=10\n",
      "[12:30:52] C:\\Users\\Administrator\\Desktop\\xgboost\\src\\tree\\updater_prune.cc:74: tree pruning end, 1 roots, 228 extra nodes, 0 pruned nodes, max_depth=10\n",
      "Stopping. Best iteration:\n",
      "[14]\ttrain-auc:0.876159\tvalid-auc:0.704952\n",
      "\n",
      "AUC: 0.7034069583290812\n"
     ]
    }
   ],
   "source": [
    "import xgboost as xgb\n",
    "from sklearn.model_selection import train_test_split\n",
    "xgb_params = {'eta': 0.2,  #learning_rate\n",
    "                  'max_depth': 10, \n",
    "                  'subsample': 0.8, \n",
    "                  'colsample_bytree': 0.8, \n",
    "                  'objective': 'binary:logistic', \n",
    "                  'eval_metric': 'auc', \n",
    "                  'seed': 1234\n",
    "                 }\n",
    "\n",
    "d_train = xgb.DMatrix(x_train, y_train)\n",
    "d_valid = xgb.DMatrix(x_test, y_test)\n",
    "\n",
    "\n",
    "#watchlist -> List of items to be evaluated during training, this allows user to watch performance on the validation set.\n",
    "watchlist = [(d_train, 'train'), (d_valid, 'valid')]\n",
    "model_xgb = xgb.train(xgb_params, d_train, 200, watchlist, verbose_eval=25, early_stopping_rounds=5)\n",
    "\n",
    "xgb_pred_valid = model_xgb.predict(d_valid)\n",
    "auc = roc_auc_score(y_test, xgb_pred_valid)\n",
    "print('AUC:',auc)"
   ]
  },
  {
   "cell_type": "code",
   "execution_count": 37,
   "metadata": {},
   "outputs": [
    {
     "name": "stdout",
     "output_type": "stream",
     "text": [
      "Area Under The Curve is :  0.7034069583290812\n"
     ]
    },
    {
     "data": {
      "image/png": "[encoded data removed]",
      "text/plain": [
       "<Figure size 720x576 with 1 Axes>"
      ]
     },
     "metadata": {
      "needs_background": "light"
     },
     "output_type": "display_data"
    }
   ],
   "source": [
    "auc_roc(y_test, xgb_pred_valid)"
   ]
  },
  {
   "cell_type": "markdown",
   "metadata": {},
   "source": [
    "> Observation: We got 70% auc with max depth of 10 using XGB logloss"
   ]
  },
  {
   "cell_type": "code",
   "execution_count": 38,
   "metadata": {},
   "outputs": [
    {
     "name": "stdout",
     "output_type": "stream",
     "text": [
      "[13:12:54] C:\\Users\\Administrator\\Desktop\\xgboost\\src\\tree\\updater_prune.cc:74: tree pruning end, 1 roots, 1412 extra nodes, 0 pruned nodes, max_depth=15\n",
      "[0]\ttrain-auc:0.752003\tvalid-auc:0.652809\n",
      "Multiple eval metrics have been passed: 'valid-auc' will be used for early stopping.\n",
      "\n",
      "Will train until valid-auc hasn't improved in 10 rounds.\n",
      "[13:13:33] C:\\Users\\Administrator\\Desktop\\xgboost\\src\\tree\\updater_prune.cc:74: tree pruning end, 1 roots, 1462 extra nodes, 0 pruned nodes, max_depth=15\n",
      "[13:14:13] C:\\Users\\Administrator\\Desktop\\xgboost\\src\\tree\\updater_prune.cc:74: tree pruning end, 1 roots, 1438 extra nodes, 0 pruned nodes, max_depth=15\n",
      "[13:14:52] C:\\Users\\Administrator\\Desktop\\xgboost\\src\\tree\\updater_prune.cc:74: tree pruning end, 1 roots, 1232 extra nodes, 0 pruned nodes, max_depth=15\n",
      "[13:15:23] C:\\Users\\Administrator\\Desktop\\xgboost\\src\\tree\\updater_prune.cc:74: tree pruning end, 1 roots, 990 extra nodes, 0 pruned nodes, max_depth=15\n",
      "[13:16:05] C:\\Users\\Administrator\\Desktop\\xgboost\\src\\tree\\updater_prune.cc:74: tree pruning end, 1 roots, 1604 extra nodes, 0 pruned nodes, max_depth=15\n",
      "[13:16:44] C:\\Users\\Administrator\\Desktop\\xgboost\\src\\tree\\updater_prune.cc:74: tree pruning end, 1 roots, 1232 extra nodes, 0 pruned nodes, max_depth=15\n",
      "[13:17:14] C:\\Users\\Administrator\\Desktop\\xgboost\\src\\tree\\updater_prune.cc:74: tree pruning end, 1 roots, 800 extra nodes, 0 pruned nodes, max_depth=15\n",
      "[13:17:52] C:\\Users\\Administrator\\Desktop\\xgboost\\src\\tree\\updater_prune.cc:74: tree pruning end, 1 roots, 1016 extra nodes, 0 pruned nodes, max_depth=15\n",
      "[13:18:23] C:\\Users\\Administrator\\Desktop\\xgboost\\src\\tree\\updater_prune.cc:74: tree pruning end, 1 roots, 744 extra nodes, 0 pruned nodes, max_depth=15\n",
      "[13:18:56] C:\\Users\\Administrator\\Desktop\\xgboost\\src\\tree\\updater_prune.cc:74: tree pruning end, 1 roots, 1280 extra nodes, 0 pruned nodes, max_depth=15\n",
      "[13:19:35] C:\\Users\\Administrator\\Desktop\\xgboost\\src\\tree\\updater_prune.cc:74: tree pruning end, 1 roots, 714 extra nodes, 0 pruned nodes, max_depth=15\n",
      "[13:20:13] C:\\Users\\Administrator\\Desktop\\xgboost\\src\\tree\\updater_prune.cc:74: tree pruning end, 1 roots, 960 extra nodes, 0 pruned nodes, max_depth=15\n",
      "[13:20:48] C:\\Users\\Administrator\\Desktop\\xgboost\\src\\tree\\updater_prune.cc:74: tree pruning end, 1 roots, 1168 extra nodes, 0 pruned nodes, max_depth=15\n",
      "[13:21:27] C:\\Users\\Administrator\\Desktop\\xgboost\\src\\tree\\updater_prune.cc:74: tree pruning end, 1 roots, 960 extra nodes, 0 pruned nodes, max_depth=15\n",
      "[13:22:07] C:\\Users\\Administrator\\Desktop\\xgboost\\src\\tree\\updater_prune.cc:74: tree pruning end, 1 roots, 728 extra nodes, 0 pruned nodes, max_depth=15\n",
      "[13:22:46] C:\\Users\\Administrator\\Desktop\\xgboost\\src\\tree\\updater_prune.cc:74: tree pruning end, 1 roots, 702 extra nodes, 0 pruned nodes, max_depth=15\n",
      "[13:23:26] C:\\Users\\Administrator\\Desktop\\xgboost\\src\\tree\\updater_prune.cc:74: tree pruning end, 1 roots, 952 extra nodes, 0 pruned nodes, max_depth=15\n",
      "[13:24:03] C:\\Users\\Administrator\\Desktop\\xgboost\\src\\tree\\updater_prune.cc:74: tree pruning end, 1 roots, 628 extra nodes, 0 pruned nodes, max_depth=15\n",
      "[13:24:33] C:\\Users\\Administrator\\Desktop\\xgboost\\src\\tree\\updater_prune.cc:74: tree pruning end, 1 roots, 516 extra nodes, 0 pruned nodes, max_depth=15\n",
      "[13:25:08] C:\\Users\\Administrator\\Desktop\\xgboost\\src\\tree\\updater_prune.cc:74: tree pruning end, 1 roots, 536 extra nodes, 0 pruned nodes, max_depth=15\n",
      "[13:25:38] C:\\Users\\Administrator\\Desktop\\xgboost\\src\\tree\\updater_prune.cc:74: tree pruning end, 1 roots, 676 extra nodes, 0 pruned nodes, max_depth=15\n",
      "[13:26:08] C:\\Users\\Administrator\\Desktop\\xgboost\\src\\tree\\updater_prune.cc:74: tree pruning end, 1 roots, 562 extra nodes, 0 pruned nodes, max_depth=15\n",
      "[13:26:45] C:\\Users\\Administrator\\Desktop\\xgboost\\src\\tree\\updater_prune.cc:74: tree pruning end, 1 roots, 864 extra nodes, 0 pruned nodes, max_depth=15\n",
      "[13:27:21] C:\\Users\\Administrator\\Desktop\\xgboost\\src\\tree\\updater_prune.cc:74: tree pruning end, 1 roots, 448 extra nodes, 0 pruned nodes, max_depth=15\n",
      "[13:27:56] C:\\Users\\Administrator\\Desktop\\xgboost\\src\\tree\\updater_prune.cc:74: tree pruning end, 1 roots, 458 extra nodes, 0 pruned nodes, max_depth=15\n",
      "[13:28:30] C:\\Users\\Administrator\\Desktop\\xgboost\\src\\tree\\updater_prune.cc:74: tree pruning end, 1 roots, 276 extra nodes, 0 pruned nodes, max_depth=15\n",
      "[13:29:05] C:\\Users\\Administrator\\Desktop\\xgboost\\src\\tree\\updater_prune.cc:74: tree pruning end, 1 roots, 466 extra nodes, 0 pruned nodes, max_depth=15\n",
      "[13:29:40] C:\\Users\\Administrator\\Desktop\\xgboost\\src\\tree\\updater_prune.cc:74: tree pruning end, 1 roots, 502 extra nodes, 0 pruned nodes, max_depth=15\n",
      "[13:30:09] C:\\Users\\Administrator\\Desktop\\xgboost\\src\\tree\\updater_prune.cc:74: tree pruning end, 1 roots, 336 extra nodes, 0 pruned nodes, max_depth=15\n",
      "[13:30:43] C:\\Users\\Administrator\\Desktop\\xgboost\\src\\tree\\updater_prune.cc:74: tree pruning end, 1 roots, 278 extra nodes, 0 pruned nodes, max_depth=15\n",
      "[13:31:14] C:\\Users\\Administrator\\Desktop\\xgboost\\src\\tree\\updater_prune.cc:74: tree pruning end, 1 roots, 682 extra nodes, 0 pruned nodes, max_depth=15\n",
      "[13:31:48] C:\\Users\\Administrator\\Desktop\\xgboost\\src\\tree\\updater_prune.cc:74: tree pruning end, 1 roots, 314 extra nodes, 0 pruned nodes, max_depth=15\n",
      "[13:32:23] C:\\Users\\Administrator\\Desktop\\xgboost\\src\\tree\\updater_prune.cc:74: tree pruning end, 1 roots, 416 extra nodes, 0 pruned nodes, max_depth=15\n",
      "[13:32:51] C:\\Users\\Administrator\\Desktop\\xgboost\\src\\tree\\updater_prune.cc:74: tree pruning end, 1 roots, 224 extra nodes, 0 pruned nodes, max_depth=15\n",
      "[13:33:20] C:\\Users\\Administrator\\Desktop\\xgboost\\src\\tree\\updater_prune.cc:74: tree pruning end, 1 roots, 286 extra nodes, 0 pruned nodes, max_depth=15\n",
      "[13:33:53] C:\\Users\\Administrator\\Desktop\\xgboost\\src\\tree\\updater_prune.cc:74: tree pruning end, 1 roots, 220 extra nodes, 0 pruned nodes, max_depth=15\n",
      "[13:34:28] C:\\Users\\Administrator\\Desktop\\xgboost\\src\\tree\\updater_prune.cc:74: tree pruning end, 1 roots, 452 extra nodes, 0 pruned nodes, max_depth=15\n",
      "[13:35:02] C:\\Users\\Administrator\\Desktop\\xgboost\\src\\tree\\updater_prune.cc:74: tree pruning end, 1 roots, 286 extra nodes, 0 pruned nodes, max_depth=15\n",
      "[13:35:37] C:\\Users\\Administrator\\Desktop\\xgboost\\src\\tree\\updater_prune.cc:74: tree pruning end, 1 roots, 412 extra nodes, 0 pruned nodes, max_depth=15\n",
      "[13:36:06] C:\\Users\\Administrator\\Desktop\\xgboost\\src\\tree\\updater_prune.cc:74: tree pruning end, 1 roots, 448 extra nodes, 0 pruned nodes, max_depth=15\n",
      "[13:36:35] C:\\Users\\Administrator\\Desktop\\xgboost\\src\\tree\\updater_prune.cc:74: tree pruning end, 1 roots, 510 extra nodes, 0 pruned nodes, max_depth=15\n",
      "[13:37:11] C:\\Users\\Administrator\\Desktop\\xgboost\\src\\tree\\updater_prune.cc:74: tree pruning end, 1 roots, 724 extra nodes, 0 pruned nodes, max_depth=15\n",
      "[13:37:47] C:\\Users\\Administrator\\Desktop\\xgboost\\src\\tree\\updater_prune.cc:74: tree pruning end, 1 roots, 666 extra nodes, 0 pruned nodes, max_depth=15\n",
      "[13:38:14] C:\\Users\\Administrator\\Desktop\\xgboost\\src\\tree\\updater_prune.cc:74: tree pruning end, 1 roots, 198 extra nodes, 0 pruned nodes, max_depth=15\n",
      "Stopping. Best iteration:\n",
      "[34]\ttrain-auc:0.978383\tvalid-auc:0.700167\n",
      "\n",
      "AUC: 0.6988384279759072\n"
     ]
    }
   ],
   "source": [
    "import xgboost as xgb\n",
    "from sklearn.model_selection import train_test_split\n",
    "xgb_params = {'eta': 0.2,  #learning_rate\n",
    "                  'max_depth': 15, \n",
    "                  'subsample': 0.8, \n",
    "                  'colsample_bytree': 0.8, \n",
    "                  'objective': 'binary:logistic',  #logloss\n",
    "                  'eval_metric': 'auc', \n",
    "                  'seed': 1234\n",
    "                 }\n",
    "\n",
    "d_train = xgb.DMatrix(x_train, y_train)\n",
    "d_valid = xgb.DMatrix(x_test, y_test)\n",
    "\n",
    "\n",
    "#watchlist -> List of items to be evaluated during training, this allows user to watch performance on the validation set.\n",
    "watchlist = [(d_train, 'train'), (d_valid, 'valid')]\n",
    "model_xgb = xgb.train(xgb_params, d_train, 200, watchlist, verbose_eval=50, early_stopping_rounds=10)\n",
    "\n",
    "xgb_pred_valid = model_xgb.predict(d_valid)\n",
    "auc = roc_auc_score(y_test, xgb_pred_valid)\n",
    "print('AUC:',auc)"
   ]
  },
  {
   "cell_type": "code",
   "execution_count": null,
   "metadata": {},
   "outputs": [],
   "source": []
  },
  {
   "cell_type": "code",
   "execution_count": 39,
   "metadata": {},
   "outputs": [
    {
     "name": "stdout",
     "output_type": "stream",
     "text": [
      "[13:39:05] C:\\Users\\Administrator\\Desktop\\xgboost\\src\\tree\\updater_prune.cc:74: tree pruning end, 1 roots, 44 extra nodes, 0 pruned nodes, max_depth=5\n",
      "[0]\ttrain-auc:0.663331\tvalid-auc:0.652078\n",
      "Multiple eval metrics have been passed: 'valid-auc' will be used for early stopping.\n",
      "\n",
      "Will train until valid-auc hasn't improved in 5 rounds.\n",
      "[13:39:15] C:\\Users\\Administrator\\Desktop\\xgboost\\src\\tree\\updater_prune.cc:74: tree pruning end, 1 roots, 56 extra nodes, 0 pruned nodes, max_depth=5\n",
      "[13:39:25] C:\\Users\\Administrator\\Desktop\\xgboost\\src\\tree\\updater_prune.cc:74: tree pruning end, 1 roots, 56 extra nodes, 0 pruned nodes, max_depth=5\n",
      "[13:39:37] C:\\Users\\Administrator\\Desktop\\xgboost\\src\\tree\\updater_prune.cc:74: tree pruning end, 1 roots, 42 extra nodes, 0 pruned nodes, max_depth=5\n",
      "[13:39:49] C:\\Users\\Administrator\\Desktop\\xgboost\\src\\tree\\updater_prune.cc:74: tree pruning end, 1 roots, 48 extra nodes, 0 pruned nodes, max_depth=5\n",
      "[13:40:01] C:\\Users\\Administrator\\Desktop\\xgboost\\src\\tree\\updater_prune.cc:74: tree pruning end, 1 roots, 52 extra nodes, 0 pruned nodes, max_depth=5\n",
      "[13:40:13] C:\\Users\\Administrator\\Desktop\\xgboost\\src\\tree\\updater_prune.cc:74: tree pruning end, 1 roots, 46 extra nodes, 0 pruned nodes, max_depth=5\n",
      "[13:40:24] C:\\Users\\Administrator\\Desktop\\xgboost\\src\\tree\\updater_prune.cc:74: tree pruning end, 1 roots, 50 extra nodes, 0 pruned nodes, max_depth=5\n",
      "[13:40:34] C:\\Users\\Administrator\\Desktop\\xgboost\\src\\tree\\updater_prune.cc:74: tree pruning end, 1 roots, 56 extra nodes, 0 pruned nodes, max_depth=5\n",
      "[13:40:44] C:\\Users\\Administrator\\Desktop\\xgboost\\src\\tree\\updater_prune.cc:74: tree pruning end, 1 roots, 54 extra nodes, 0 pruned nodes, max_depth=5\n",
      "[13:40:56] C:\\Users\\Administrator\\Desktop\\xgboost\\src\\tree\\updater_prune.cc:74: tree pruning end, 1 roots, 38 extra nodes, 0 pruned nodes, max_depth=5\n",
      "[13:41:06] C:\\Users\\Administrator\\Desktop\\xgboost\\src\\tree\\updater_prune.cc:74: tree pruning end, 1 roots, 44 extra nodes, 0 pruned nodes, max_depth=5\n",
      "[13:41:18] C:\\Users\\Administrator\\Desktop\\xgboost\\src\\tree\\updater_prune.cc:74: tree pruning end, 1 roots, 48 extra nodes, 0 pruned nodes, max_depth=5\n",
      "[13:41:30] C:\\Users\\Administrator\\Desktop\\xgboost\\src\\tree\\updater_prune.cc:74: tree pruning end, 1 roots, 50 extra nodes, 0 pruned nodes, max_depth=5\n",
      "[13:41:42] C:\\Users\\Administrator\\Desktop\\xgboost\\src\\tree\\updater_prune.cc:74: tree pruning end, 1 roots, 52 extra nodes, 0 pruned nodes, max_depth=5\n",
      "[13:41:52] C:\\Users\\Administrator\\Desktop\\xgboost\\src\\tree\\updater_prune.cc:74: tree pruning end, 1 roots, 36 extra nodes, 0 pruned nodes, max_depth=5\n",
      "[13:42:04] C:\\Users\\Administrator\\Desktop\\xgboost\\src\\tree\\updater_prune.cc:74: tree pruning end, 1 roots, 40 extra nodes, 0 pruned nodes, max_depth=5\n",
      "[13:42:16] C:\\Users\\Administrator\\Desktop\\xgboost\\src\\tree\\updater_prune.cc:74: tree pruning end, 1 roots, 34 extra nodes, 0 pruned nodes, max_depth=5\n",
      "[13:42:26] C:\\Users\\Administrator\\Desktop\\xgboost\\src\\tree\\updater_prune.cc:74: tree pruning end, 1 roots, 42 extra nodes, 0 pruned nodes, max_depth=5\n",
      "[13:42:36] C:\\Users\\Administrator\\Desktop\\xgboost\\src\\tree\\updater_prune.cc:74: tree pruning end, 1 roots, 42 extra nodes, 0 pruned nodes, max_depth=5\n",
      "[13:42:47] C:\\Users\\Administrator\\Desktop\\xgboost\\src\\tree\\updater_prune.cc:74: tree pruning end, 1 roots, 50 extra nodes, 0 pruned nodes, max_depth=5\n",
      "[13:42:57] C:\\Users\\Administrator\\Desktop\\xgboost\\src\\tree\\updater_prune.cc:74: tree pruning end, 1 roots, 32 extra nodes, 0 pruned nodes, max_depth=5\n",
      "[13:43:09] C:\\Users\\Administrator\\Desktop\\xgboost\\src\\tree\\updater_prune.cc:74: tree pruning end, 1 roots, 40 extra nodes, 0 pruned nodes, max_depth=5\n",
      "[13:43:21] C:\\Users\\Administrator\\Desktop\\xgboost\\src\\tree\\updater_prune.cc:74: tree pruning end, 1 roots, 36 extra nodes, 0 pruned nodes, max_depth=5\n",
      "[13:43:31] C:\\Users\\Administrator\\Desktop\\xgboost\\src\\tree\\updater_prune.cc:74: tree pruning end, 1 roots, 38 extra nodes, 0 pruned nodes, max_depth=5\n",
      "[13:43:43] C:\\Users\\Administrator\\Desktop\\xgboost\\src\\tree\\updater_prune.cc:74: tree pruning end, 1 roots, 34 extra nodes, 0 pruned nodes, max_depth=5\n",
      "[13:43:55] C:\\Users\\Administrator\\Desktop\\xgboost\\src\\tree\\updater_prune.cc:74: tree pruning end, 1 roots, 36 extra nodes, 0 pruned nodes, max_depth=5\n",
      "[13:44:05] C:\\Users\\Administrator\\Desktop\\xgboost\\src\\tree\\updater_prune.cc:74: tree pruning end, 1 roots, 54 extra nodes, 0 pruned nodes, max_depth=5\n",
      "[13:44:17] C:\\Users\\Administrator\\Desktop\\xgboost\\src\\tree\\updater_prune.cc:74: tree pruning end, 1 roots, 40 extra nodes, 0 pruned nodes, max_depth=5\n",
      "[13:44:28] C:\\Users\\Administrator\\Desktop\\xgboost\\src\\tree\\updater_prune.cc:74: tree pruning end, 1 roots, 38 extra nodes, 0 pruned nodes, max_depth=5\n",
      "[13:44:40] C:\\Users\\Administrator\\Desktop\\xgboost\\src\\tree\\updater_prune.cc:74: tree pruning end, 1 roots, 24 extra nodes, 0 pruned nodes, max_depth=5\n",
      "[13:44:51] C:\\Users\\Administrator\\Desktop\\xgboost\\src\\tree\\updater_prune.cc:74: tree pruning end, 1 roots, 48 extra nodes, 0 pruned nodes, max_depth=5\n",
      "[13:45:02] C:\\Users\\Administrator\\Desktop\\xgboost\\src\\tree\\updater_prune.cc:74: tree pruning end, 1 roots, 20 extra nodes, 0 pruned nodes, max_depth=5\n",
      "[13:45:12] C:\\Users\\Administrator\\Desktop\\xgboost\\src\\tree\\updater_prune.cc:74: tree pruning end, 1 roots, 28 extra nodes, 0 pruned nodes, max_depth=5\n",
      "[13:45:22] C:\\Users\\Administrator\\Desktop\\xgboost\\src\\tree\\updater_prune.cc:74: tree pruning end, 1 roots, 52 extra nodes, 0 pruned nodes, max_depth=5\n",
      "[13:45:32] C:\\Users\\Administrator\\Desktop\\xgboost\\src\\tree\\updater_prune.cc:74: tree pruning end, 1 roots, 34 extra nodes, 0 pruned nodes, max_depth=5\n",
      "[13:45:41] C:\\Users\\Administrator\\Desktop\\xgboost\\src\\tree\\updater_prune.cc:74: tree pruning end, 1 roots, 26 extra nodes, 0 pruned nodes, max_depth=5\n",
      "[13:45:53] C:\\Users\\Administrator\\Desktop\\xgboost\\src\\tree\\updater_prune.cc:74: tree pruning end, 1 roots, 38 extra nodes, 0 pruned nodes, max_depth=5\n",
      "[13:46:04] C:\\Users\\Administrator\\Desktop\\xgboost\\src\\tree\\updater_prune.cc:74: tree pruning end, 1 roots, 26 extra nodes, 0 pruned nodes, max_depth=5\n",
      "[13:46:15] C:\\Users\\Administrator\\Desktop\\xgboost\\src\\tree\\updater_prune.cc:74: tree pruning end, 1 roots, 48 extra nodes, 0 pruned nodes, max_depth=5\n",
      "[13:46:25] C:\\Users\\Administrator\\Desktop\\xgboost\\src\\tree\\updater_prune.cc:74: tree pruning end, 1 roots, 28 extra nodes, 0 pruned nodes, max_depth=5\n",
      "[13:46:38] C:\\Users\\Administrator\\Desktop\\xgboost\\src\\tree\\updater_prune.cc:74: tree pruning end, 1 roots, 24 extra nodes, 0 pruned nodes, max_depth=5\n",
      "[13:46:48] C:\\Users\\Administrator\\Desktop\\xgboost\\src\\tree\\updater_prune.cc:74: tree pruning end, 1 roots, 38 extra nodes, 0 pruned nodes, max_depth=5\n",
      "[13:47:00] C:\\Users\\Administrator\\Desktop\\xgboost\\src\\tree\\updater_prune.cc:74: tree pruning end, 1 roots, 20 extra nodes, 0 pruned nodes, max_depth=5\n",
      "[13:47:12] C:\\Users\\Administrator\\Desktop\\xgboost\\src\\tree\\updater_prune.cc:74: tree pruning end, 1 roots, 46 extra nodes, 0 pruned nodes, max_depth=5\n",
      "Stopping. Best iteration:\n",
      "[39]\ttrain-auc:0.826567\tvalid-auc:0.712545\n",
      "\n",
      "AUC: 0.712009960431643\n"
     ]
    }
   ],
   "source": [
    "import xgboost as xgb\n",
    "from sklearn.model_selection import train_test_split\n",
    "xgb_params = {'eta': 0.2,  #learning_rate\n",
    "                  'max_depth': 5, \n",
    "                  'subsample': 0.8, \n",
    "                  'colsample_bytree': 0.8, \n",
    "                  'objective': 'binary:logistic',  #logloss\n",
    "                  'eval_metric': 'auc', \n",
    "                  'seed': 1234\n",
    "                 }\n",
    "\n",
    "d_train = xgb.DMatrix(x_train, y_train)\n",
    "d_valid = xgb.DMatrix(x_test, y_test)\n",
    "\n",
    "\n",
    "#watchlist -> List of items to be evaluated during training, this allows user to watch performance on the validation set.\n",
    "watchlist = [(d_train, 'train'), (d_valid, 'valid')]\n",
    "model_xgb = xgb.train(xgb_params, d_train, 200, watchlist, verbose_eval=50, early_stopping_rounds=5)\n",
    "\n",
    "xgb_pred_valid = model_xgb.predict(d_valid)\n",
    "auc = roc_auc_score(y_test, xgb_pred_valid)\n",
    "print('AUC:',auc)"
   ]
  },
  {
   "cell_type": "code",
   "execution_count": 43,
   "metadata": {},
   "outputs": [
    {
     "data": {
      "image/png": "[encoded data removed]",
      "text/plain": [
       "<Figure size 576x432 with 2 Axes>"
      ]
     },
     "metadata": {
      "needs_background": "light"
     },
     "output_type": "display_data"
    },
    {
     "data": {
      "text/plain": [
       "<Figure size 864x720 with 0 Axes>"
      ]
     },
     "metadata": {},
     "output_type": "display_data"
    }
   ],
   "source": [
    "pred = [1 if i>=0.56 else 0 for i in xgb_pred_valid]\n",
    "confusionMatrix(y_test,pred)"
   ]
  },
  {
   "cell_type": "code",
   "execution_count": 49,
   "metadata": {},
   "outputs": [
    {
     "name": "stdout",
     "output_type": "stream",
     "text": [
      "Area Under The Curve is :  0.712009960431643\n"
     ]
    },
    {
     "data": {
      "image/png": "[encoded data removed]",
      "text/plain": [
       "<Figure size 720x576 with 1 Axes>"
      ]
     },
     "metadata": {
      "needs_background": "light"
     },
     "output_type": "display_data"
    }
   ],
   "source": [
    "auc_roc(y_test,xgb_pred_valid)"
   ]
  },
  {
   "cell_type": "markdown",
   "metadata": {},
   "source": [
    "> Observation: auc is 71% with max_depth of 5."
   ]
  },
  {
   "cell_type": "markdown",
   "metadata": {},
   "source": [
    "# Summary:\n",
    "Best model is Light GBM with gbdt using Logloss it gave 74% AUC."
   ]
  },
  {
   "cell_type": "code",
   "execution_count": null,
   "metadata": {},
   "outputs": [],
   "source": []
  }
 ],
 "metadata": {
  "kernelspec": {
   "display_name": "Python 3",
   "language": "python",
   "name": "python3"
  },
  "language_info": {
   "codemirror_mode": {
    "name": "ipython",
    "version": 3
   },
   "file_extension": ".py",
   "mimetype": "text/x-python",
   "name": "python",
   "nbconvert_exporter": "python",
   "pygments_lexer": "ipython3",
   "version": "3.7.0"
  }
 },
 "nbformat": 4,
 "nbformat_minor": 2
}
